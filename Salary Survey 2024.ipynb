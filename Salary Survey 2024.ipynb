{
 "cells": [
  {
   "cell_type": "code",
   "execution_count": 1,
   "metadata": {},
   "outputs": [],
   "source": [
    "import pandas as pd\n",
    "import numpy as np"
   ]
  },
  {
   "cell_type": "code",
   "execution_count": 2,
   "metadata": {},
   "outputs": [],
   "source": [
    "file = pd.read_csv(r'C:\\Users\\ydool\\Downloads\\Table 1-Grid view (4).csv')"
   ]
  },
  {
   "cell_type": "code",
   "execution_count": 3,
   "metadata": {},
   "outputs": [],
   "source": [
    "file.drop('Name', axis=1, inplace=True)"
   ]
  },
  {
   "cell_type": "code",
   "execution_count": 4,
   "metadata": {},
   "outputs": [],
   "source": [
    "#file.groupby(['Type of Workplace','Experience'])['Monthly Gross Salary (Bruto)'].min()"
   ]
  },
  {
   "cell_type": "code",
   "execution_count": 5,
   "metadata": {},
   "outputs": [],
   "source": [
    "#file.info()"
   ]
  },
  {
   "cell_type": "code",
   "execution_count": 6,
   "metadata": {},
   "outputs": [],
   "source": [
    "file['Monthly Gross Salary (Bruto)'].fillna(0, inplace=True)\n",
    "file['Extra Benefits'].fillna(0, inplace=True)\n",
    "file['Hourly Salary Rate'].fillna(0, inplace=True)\n",
    "file['Total Salary'] = file['Monthly Gross Salary (Bruto)']  + file['Hourly Salary Rate'] #+ file['Extra Benefits']\n",
    "    "
   ]
  },
  {
   "cell_type": "code",
   "execution_count": 7,
   "metadata": {},
   "outputs": [],
   "source": [
    "# def job_titler(cols):\n",
    "#     data_labeling = cols[0]\n",
    "#     people_management = cols[1]\n",
    "#     vendor_management = cols[2]\n",
    "#     quality_validation = cols[3]\n",
    "#     collection = cols[4]\n",
    "#     curation = cols[5]\n",
    "#     if (data_labeling == 'Yes' || collection=='Yes' || curation=='Yes'):\n",
    "#         if (people_management=='No' & vendor_management=='No' & quality_validation=='No'):\n",
    "#             return 'Data Labeling/Collection/Curation Role'\n",
    "#         else:\n",
    "#             return 'Hands-on Data Management Role'\n"
   ]
  },
  {
   "cell_type": "code",
   "execution_count": 8,
   "metadata": {},
   "outputs": [],
   "source": [
    "#file.groupby(['Experience','Type of Workplace','People Management'])['Total Salary'].min().reset_index()"
   ]
  },
  {
   "cell_type": "code",
   "execution_count": 9,
   "metadata": {},
   "outputs": [],
   "source": [
    "#file.groupby(['Experience','Type of Workplace','People Management'])['Total Salary'].max().reset_index()"
   ]
  },
  {
   "cell_type": "code",
   "execution_count": 10,
   "metadata": {},
   "outputs": [],
   "source": [
    "#file.groupby(['Experience','Type of Workplace','People Management'])['Total Salary'].count().reset_index()"
   ]
  },
  {
   "cell_type": "code",
   "execution_count": 11,
   "metadata": {},
   "outputs": [],
   "source": [
    "def group_and_summarize(df, group_cols, num_col):\n",
    "    \"\"\"\n",
    "    Groups by the specified columns and calculates the range (min-max),\n",
    "    median, and count for the numerical column. The Count column will indicate\n",
    "    \"Less than 3\" if the count is below 3.\n",
    "    \n",
    "    Parameters:\n",
    "    - df (pd.DataFrame): Input DataFrame.\n",
    "    - group_cols (list of str): List of column names to group by (categorical).\n",
    "    - num_col (str): Name of the numerical column to summarize.\n",
    "    \n",
    "    Returns:\n",
    "    - pd.DataFrame: Summary DataFrame with range, median, and modified count.\n",
    "    \"\"\"\n",
    "    # Group by the specified columns and calculate min, max, median, and count\n",
    "    grouped_df = df.groupby(group_cols)[num_col].agg(['min', 'max', 'median', 'count']).reset_index()\n",
    "    \n",
    "    # Create a new column for the range as 'min-max' and format numbers with commas\n",
    "    grouped_df['Range'] = grouped_df['min'].apply(lambda x: f\"{int(x):,}\") + \" - \" + grouped_df['max'].apply(lambda x: f\"{int(x):,}\")\n",
    "    \n",
    "    # Format Median with commas\n",
    "    grouped_df['Median'] = grouped_df['median'].apply(lambda x: f\"{int(x):,}\")\n",
    "    \n",
    "    # Modify Count to display \"Less than 3\" or the formatted count\n",
    "    grouped_df['Comment'] = grouped_df['count'].apply(lambda x: \"Less than 3 people in this group\" if x < 3 else '')\n",
    "    \n",
    "    # Reorder columns to place Range, Median, and Count as needed\n",
    "    grouped_df = grouped_df[group_cols + ['Range', 'Median', 'Comment']]\n",
    "    \n",
    "    # Return the DataFrame without an index\n",
    "    return grouped_df.style.hide_index()"
   ]
  },
  {
   "cell_type": "code",
   "execution_count": 12,
   "metadata": {
    "scrolled": true
   },
   "outputs": [
    {
     "data": {
      "text/html": [
       "<style  type=\"text/css\" >\n",
       "</style><table id=\"T_9afc0df4_a58f_11ef_9709_4a5f992a9e55\" ><thead>    <tr>        <th class=\"col_heading level0 col0\" >Type of Workplace</th>        <th class=\"col_heading level0 col1\" >Experience</th>        <th class=\"col_heading level0 col2\" >Range</th>        <th class=\"col_heading level0 col3\" >Median</th>        <th class=\"col_heading level0 col4\" >Comment</th>    </tr></thead><tbody>\n",
       "                <tr>\n",
       "                                <td id=\"T_9afc0df4_a58f_11ef_9709_4a5f992a9e55row0_col0\" class=\"data row0 col0\" >Big Startup (More than 200 Employees)</td>\n",
       "                        <td id=\"T_9afc0df4_a58f_11ef_9709_4a5f992a9e55row0_col1\" class=\"data row0 col1\" >3-5 Years</td>\n",
       "                        <td id=\"T_9afc0df4_a58f_11ef_9709_4a5f992a9e55row0_col2\" class=\"data row0 col2\" >18,000 - 20,000</td>\n",
       "                        <td id=\"T_9afc0df4_a58f_11ef_9709_4a5f992a9e55row0_col3\" class=\"data row0 col3\" >19,000</td>\n",
       "                        <td id=\"T_9afc0df4_a58f_11ef_9709_4a5f992a9e55row0_col4\" class=\"data row0 col4\" ></td>\n",
       "            </tr>\n",
       "            <tr>\n",
       "                                <td id=\"T_9afc0df4_a58f_11ef_9709_4a5f992a9e55row1_col0\" class=\"data row1 col0\" >Enterprise/Corporate</td>\n",
       "                        <td id=\"T_9afc0df4_a58f_11ef_9709_4a5f992a9e55row1_col1\" class=\"data row1 col1\" >0-2 Years</td>\n",
       "                        <td id=\"T_9afc0df4_a58f_11ef_9709_4a5f992a9e55row1_col2\" class=\"data row1 col2\" >16,000 - 19,000</td>\n",
       "                        <td id=\"T_9afc0df4_a58f_11ef_9709_4a5f992a9e55row1_col3\" class=\"data row1 col3\" >19,000</td>\n",
       "                        <td id=\"T_9afc0df4_a58f_11ef_9709_4a5f992a9e55row1_col4\" class=\"data row1 col4\" ></td>\n",
       "            </tr>\n",
       "            <tr>\n",
       "                                <td id=\"T_9afc0df4_a58f_11ef_9709_4a5f992a9e55row2_col0\" class=\"data row2 col0\" >Enterprise/Corporate</td>\n",
       "                        <td id=\"T_9afc0df4_a58f_11ef_9709_4a5f992a9e55row2_col1\" class=\"data row2 col1\" >10+ Years</td>\n",
       "                        <td id=\"T_9afc0df4_a58f_11ef_9709_4a5f992a9e55row2_col2\" class=\"data row2 col2\" >18,900 - 20,000</td>\n",
       "                        <td id=\"T_9afc0df4_a58f_11ef_9709_4a5f992a9e55row2_col3\" class=\"data row2 col3\" >19,450</td>\n",
       "                        <td id=\"T_9afc0df4_a58f_11ef_9709_4a5f992a9e55row2_col4\" class=\"data row2 col4\" >Less than 3 people in this group</td>\n",
       "            </tr>\n",
       "            <tr>\n",
       "                                <td id=\"T_9afc0df4_a58f_11ef_9709_4a5f992a9e55row3_col0\" class=\"data row3 col0\" >Enterprise/Corporate</td>\n",
       "                        <td id=\"T_9afc0df4_a58f_11ef_9709_4a5f992a9e55row3_col1\" class=\"data row3 col1\" >3-5 Years</td>\n",
       "                        <td id=\"T_9afc0df4_a58f_11ef_9709_4a5f992a9e55row3_col2\" class=\"data row3 col2\" >11,000 - 30,000</td>\n",
       "                        <td id=\"T_9afc0df4_a58f_11ef_9709_4a5f992a9e55row3_col3\" class=\"data row3 col3\" >22,500</td>\n",
       "                        <td id=\"T_9afc0df4_a58f_11ef_9709_4a5f992a9e55row3_col4\" class=\"data row3 col4\" ></td>\n",
       "            </tr>\n",
       "            <tr>\n",
       "                                <td id=\"T_9afc0df4_a58f_11ef_9709_4a5f992a9e55row4_col0\" class=\"data row4 col0\" >Enterprise/Corporate</td>\n",
       "                        <td id=\"T_9afc0df4_a58f_11ef_9709_4a5f992a9e55row4_col1\" class=\"data row4 col1\" >6-9 Years</td>\n",
       "                        <td id=\"T_9afc0df4_a58f_11ef_9709_4a5f992a9e55row4_col2\" class=\"data row4 col2\" >17,000 - 30,000</td>\n",
       "                        <td id=\"T_9afc0df4_a58f_11ef_9709_4a5f992a9e55row4_col3\" class=\"data row4 col3\" >26,000</td>\n",
       "                        <td id=\"T_9afc0df4_a58f_11ef_9709_4a5f992a9e55row4_col4\" class=\"data row4 col4\" ></td>\n",
       "            </tr>\n",
       "            <tr>\n",
       "                                <td id=\"T_9afc0df4_a58f_11ef_9709_4a5f992a9e55row5_col0\" class=\"data row5 col0\" >Medium Startup (41-200 Employees)</td>\n",
       "                        <td id=\"T_9afc0df4_a58f_11ef_9709_4a5f992a9e55row5_col1\" class=\"data row5 col1\" >0-2 Years</td>\n",
       "                        <td id=\"T_9afc0df4_a58f_11ef_9709_4a5f992a9e55row5_col2\" class=\"data row5 col2\" >12,000 - 28,000</td>\n",
       "                        <td id=\"T_9afc0df4_a58f_11ef_9709_4a5f992a9e55row5_col3\" class=\"data row5 col3\" >16,000</td>\n",
       "                        <td id=\"T_9afc0df4_a58f_11ef_9709_4a5f992a9e55row5_col4\" class=\"data row5 col4\" ></td>\n",
       "            </tr>\n",
       "            <tr>\n",
       "                                <td id=\"T_9afc0df4_a58f_11ef_9709_4a5f992a9e55row6_col0\" class=\"data row6 col0\" >Medium Startup (41-200 Employees)</td>\n",
       "                        <td id=\"T_9afc0df4_a58f_11ef_9709_4a5f992a9e55row6_col1\" class=\"data row6 col1\" >10+ Years</td>\n",
       "                        <td id=\"T_9afc0df4_a58f_11ef_9709_4a5f992a9e55row6_col2\" class=\"data row6 col2\" >14,000 - 36,500</td>\n",
       "                        <td id=\"T_9afc0df4_a58f_11ef_9709_4a5f992a9e55row6_col3\" class=\"data row6 col3\" >33,000</td>\n",
       "                        <td id=\"T_9afc0df4_a58f_11ef_9709_4a5f992a9e55row6_col4\" class=\"data row6 col4\" ></td>\n",
       "            </tr>\n",
       "            <tr>\n",
       "                                <td id=\"T_9afc0df4_a58f_11ef_9709_4a5f992a9e55row7_col0\" class=\"data row7 col0\" >Medium Startup (41-200 Employees)</td>\n",
       "                        <td id=\"T_9afc0df4_a58f_11ef_9709_4a5f992a9e55row7_col1\" class=\"data row7 col1\" >3-5 Years</td>\n",
       "                        <td id=\"T_9afc0df4_a58f_11ef_9709_4a5f992a9e55row7_col2\" class=\"data row7 col2\" >13,000 - 30,000</td>\n",
       "                        <td id=\"T_9afc0df4_a58f_11ef_9709_4a5f992a9e55row7_col3\" class=\"data row7 col3\" >19,750</td>\n",
       "                        <td id=\"T_9afc0df4_a58f_11ef_9709_4a5f992a9e55row7_col4\" class=\"data row7 col4\" ></td>\n",
       "            </tr>\n",
       "            <tr>\n",
       "                                <td id=\"T_9afc0df4_a58f_11ef_9709_4a5f992a9e55row8_col0\" class=\"data row8 col0\" >Medium Startup (41-200 Employees)</td>\n",
       "                        <td id=\"T_9afc0df4_a58f_11ef_9709_4a5f992a9e55row8_col1\" class=\"data row8 col1\" >6-9 Years</td>\n",
       "                        <td id=\"T_9afc0df4_a58f_11ef_9709_4a5f992a9e55row8_col2\" class=\"data row8 col2\" >25,000 - 25,000</td>\n",
       "                        <td id=\"T_9afc0df4_a58f_11ef_9709_4a5f992a9e55row8_col3\" class=\"data row8 col3\" >25,000</td>\n",
       "                        <td id=\"T_9afc0df4_a58f_11ef_9709_4a5f992a9e55row8_col4\" class=\"data row8 col4\" >Less than 3 people in this group</td>\n",
       "            </tr>\n",
       "            <tr>\n",
       "                                <td id=\"T_9afc0df4_a58f_11ef_9709_4a5f992a9e55row9_col0\" class=\"data row9 col0\" >Other</td>\n",
       "                        <td id=\"T_9afc0df4_a58f_11ef_9709_4a5f992a9e55row9_col1\" class=\"data row9 col1\" >6-9 Years</td>\n",
       "                        <td id=\"T_9afc0df4_a58f_11ef_9709_4a5f992a9e55row9_col2\" class=\"data row9 col2\" >33,500 - 33,500</td>\n",
       "                        <td id=\"T_9afc0df4_a58f_11ef_9709_4a5f992a9e55row9_col3\" class=\"data row9 col3\" >33,500</td>\n",
       "                        <td id=\"T_9afc0df4_a58f_11ef_9709_4a5f992a9e55row9_col4\" class=\"data row9 col4\" >Less than 3 people in this group</td>\n",
       "            </tr>\n",
       "            <tr>\n",
       "                                <td id=\"T_9afc0df4_a58f_11ef_9709_4a5f992a9e55row10_col0\" class=\"data row10 col0\" >Small Startup (up to 40 Employees)</td>\n",
       "                        <td id=\"T_9afc0df4_a58f_11ef_9709_4a5f992a9e55row10_col1\" class=\"data row10 col1\" >0-2 Years</td>\n",
       "                        <td id=\"T_9afc0df4_a58f_11ef_9709_4a5f992a9e55row10_col2\" class=\"data row10 col2\" >7,500 - 16,500</td>\n",
       "                        <td id=\"T_9afc0df4_a58f_11ef_9709_4a5f992a9e55row10_col3\" class=\"data row10 col3\" >11,000</td>\n",
       "                        <td id=\"T_9afc0df4_a58f_11ef_9709_4a5f992a9e55row10_col4\" class=\"data row10 col4\" ></td>\n",
       "            </tr>\n",
       "            <tr>\n",
       "                                <td id=\"T_9afc0df4_a58f_11ef_9709_4a5f992a9e55row11_col0\" class=\"data row11 col0\" >Small Startup (up to 40 Employees)</td>\n",
       "                        <td id=\"T_9afc0df4_a58f_11ef_9709_4a5f992a9e55row11_col1\" class=\"data row11 col1\" >10+ Years</td>\n",
       "                        <td id=\"T_9afc0df4_a58f_11ef_9709_4a5f992a9e55row11_col2\" class=\"data row11 col2\" >23,500 - 30,000</td>\n",
       "                        <td id=\"T_9afc0df4_a58f_11ef_9709_4a5f992a9e55row11_col3\" class=\"data row11 col3\" >26,750</td>\n",
       "                        <td id=\"T_9afc0df4_a58f_11ef_9709_4a5f992a9e55row11_col4\" class=\"data row11 col4\" >Less than 3 people in this group</td>\n",
       "            </tr>\n",
       "            <tr>\n",
       "                                <td id=\"T_9afc0df4_a58f_11ef_9709_4a5f992a9e55row12_col0\" class=\"data row12 col0\" >Small Startup (up to 40 Employees)</td>\n",
       "                        <td id=\"T_9afc0df4_a58f_11ef_9709_4a5f992a9e55row12_col1\" class=\"data row12 col1\" >3-5 Years</td>\n",
       "                        <td id=\"T_9afc0df4_a58f_11ef_9709_4a5f992a9e55row12_col2\" class=\"data row12 col2\" >20,000 - 35,000</td>\n",
       "                        <td id=\"T_9afc0df4_a58f_11ef_9709_4a5f992a9e55row12_col3\" class=\"data row12 col3\" >23,000</td>\n",
       "                        <td id=\"T_9afc0df4_a58f_11ef_9709_4a5f992a9e55row12_col4\" class=\"data row12 col4\" ></td>\n",
       "            </tr>\n",
       "            <tr>\n",
       "                                <td id=\"T_9afc0df4_a58f_11ef_9709_4a5f992a9e55row13_col0\" class=\"data row13 col0\" >Small Startup (up to 40 Employees)</td>\n",
       "                        <td id=\"T_9afc0df4_a58f_11ef_9709_4a5f992a9e55row13_col1\" class=\"data row13 col1\" >6-9 Years</td>\n",
       "                        <td id=\"T_9afc0df4_a58f_11ef_9709_4a5f992a9e55row13_col2\" class=\"data row13 col2\" >14,000 - 29,000</td>\n",
       "                        <td id=\"T_9afc0df4_a58f_11ef_9709_4a5f992a9e55row13_col3\" class=\"data row13 col3\" >22,000</td>\n",
       "                        <td id=\"T_9afc0df4_a58f_11ef_9709_4a5f992a9e55row13_col4\" class=\"data row13 col4\" ></td>\n",
       "            </tr>\n",
       "    </tbody></table>"
      ],
      "text/plain": [
       "<pandas.io.formats.style.Styler at 0x1c2f1d6aa88>"
      ]
     },
     "execution_count": 12,
     "metadata": {},
     "output_type": "execute_result"
    }
   ],
   "source": [
    "group_and_summarize(file[file['Hourly Salary Rate']==0],['Type of Workplace','Experience'],'Total Salary' )"
   ]
  },
  {
   "cell_type": "code",
   "execution_count": 13,
   "metadata": {},
   "outputs": [],
   "source": [
    "#file.info()"
   ]
  },
  {
   "cell_type": "code",
   "execution_count": 14,
   "metadata": {},
   "outputs": [
    {
     "data": {
      "text/plain": [
       "array(['Most/all of my work is hands on', '~50% of my work is hands on',\n",
       "       'Less than 20% of my work is hands on'], dtype=object)"
      ]
     },
     "execution_count": 14,
     "metadata": {},
     "output_type": "execute_result"
    }
   ],
   "source": [
    "file['Hands-on'].unique()"
   ]
  },
  {
   "cell_type": "code",
   "execution_count": 15,
   "metadata": {},
   "outputs": [],
   "source": [
    "special_knowledge = file[file['Special Knowledge']=='Yes'].copy()\n",
    "regular_knowledge = file[file['Special Knowledge']=='No'].copy()"
   ]
  },
  {
   "cell_type": "code",
   "execution_count": 16,
   "metadata": {},
   "outputs": [
    {
     "data": {
      "text/html": [
       "<style  type=\"text/css\" >\n",
       "</style><table id=\"T_9b0be052_a58f_11ef_b55a_4a5f992a9e55\" ><thead>    <tr>        <th class=\"col_heading level0 col0\" >Type of Workplace</th>        <th class=\"col_heading level0 col1\" >Experience</th>        <th class=\"col_heading level0 col2\" >Range</th>        <th class=\"col_heading level0 col3\" >Median</th>        <th class=\"col_heading level0 col4\" >Comment</th>    </tr></thead><tbody>\n",
       "                <tr>\n",
       "                                <td id=\"T_9b0be052_a58f_11ef_b55a_4a5f992a9e55row0_col0\" class=\"data row0 col0\" >Enterprise/Corporate</td>\n",
       "                        <td id=\"T_9b0be052_a58f_11ef_b55a_4a5f992a9e55row0_col1\" class=\"data row0 col1\" >3-5 Years</td>\n",
       "                        <td id=\"T_9b0be052_a58f_11ef_b55a_4a5f992a9e55row0_col2\" class=\"data row0 col2\" >17,500 - 17,500</td>\n",
       "                        <td id=\"T_9b0be052_a58f_11ef_b55a_4a5f992a9e55row0_col3\" class=\"data row0 col3\" >17,500</td>\n",
       "                        <td id=\"T_9b0be052_a58f_11ef_b55a_4a5f992a9e55row0_col4\" class=\"data row0 col4\" >Less than 3 people in this group</td>\n",
       "            </tr>\n",
       "            <tr>\n",
       "                                <td id=\"T_9b0be052_a58f_11ef_b55a_4a5f992a9e55row1_col0\" class=\"data row1 col0\" >Enterprise/Corporate</td>\n",
       "                        <td id=\"T_9b0be052_a58f_11ef_b55a_4a5f992a9e55row1_col1\" class=\"data row1 col1\" >6-9 Years</td>\n",
       "                        <td id=\"T_9b0be052_a58f_11ef_b55a_4a5f992a9e55row1_col2\" class=\"data row1 col2\" >17,000 - 30,000</td>\n",
       "                        <td id=\"T_9b0be052_a58f_11ef_b55a_4a5f992a9e55row1_col3\" class=\"data row1 col3\" >23,500</td>\n",
       "                        <td id=\"T_9b0be052_a58f_11ef_b55a_4a5f992a9e55row1_col4\" class=\"data row1 col4\" >Less than 3 people in this group</td>\n",
       "            </tr>\n",
       "            <tr>\n",
       "                                <td id=\"T_9b0be052_a58f_11ef_b55a_4a5f992a9e55row2_col0\" class=\"data row2 col0\" >Medium Startup (41-200 Employees)</td>\n",
       "                        <td id=\"T_9b0be052_a58f_11ef_b55a_4a5f992a9e55row2_col1\" class=\"data row2 col1\" >0-2 Years</td>\n",
       "                        <td id=\"T_9b0be052_a58f_11ef_b55a_4a5f992a9e55row2_col2\" class=\"data row2 col2\" >18,000 - 28,000</td>\n",
       "                        <td id=\"T_9b0be052_a58f_11ef_b55a_4a5f992a9e55row2_col3\" class=\"data row2 col3\" >23,000</td>\n",
       "                        <td id=\"T_9b0be052_a58f_11ef_b55a_4a5f992a9e55row2_col4\" class=\"data row2 col4\" >Less than 3 people in this group</td>\n",
       "            </tr>\n",
       "            <tr>\n",
       "                                <td id=\"T_9b0be052_a58f_11ef_b55a_4a5f992a9e55row3_col0\" class=\"data row3 col0\" >Medium Startup (41-200 Employees)</td>\n",
       "                        <td id=\"T_9b0be052_a58f_11ef_b55a_4a5f992a9e55row3_col1\" class=\"data row3 col1\" >10+ Years</td>\n",
       "                        <td id=\"T_9b0be052_a58f_11ef_b55a_4a5f992a9e55row3_col2\" class=\"data row3 col2\" >36,500 - 36,500</td>\n",
       "                        <td id=\"T_9b0be052_a58f_11ef_b55a_4a5f992a9e55row3_col3\" class=\"data row3 col3\" >36,500</td>\n",
       "                        <td id=\"T_9b0be052_a58f_11ef_b55a_4a5f992a9e55row3_col4\" class=\"data row3 col4\" >Less than 3 people in this group</td>\n",
       "            </tr>\n",
       "            <tr>\n",
       "                                <td id=\"T_9b0be052_a58f_11ef_b55a_4a5f992a9e55row4_col0\" class=\"data row4 col0\" >Medium Startup (41-200 Employees)</td>\n",
       "                        <td id=\"T_9b0be052_a58f_11ef_b55a_4a5f992a9e55row4_col1\" class=\"data row4 col1\" >3-5 Years</td>\n",
       "                        <td id=\"T_9b0be052_a58f_11ef_b55a_4a5f992a9e55row4_col2\" class=\"data row4 col2\" >18,500 - 21,000</td>\n",
       "                        <td id=\"T_9b0be052_a58f_11ef_b55a_4a5f992a9e55row4_col3\" class=\"data row4 col3\" >21,000</td>\n",
       "                        <td id=\"T_9b0be052_a58f_11ef_b55a_4a5f992a9e55row4_col4\" class=\"data row4 col4\" ></td>\n",
       "            </tr>\n",
       "            <tr>\n",
       "                                <td id=\"T_9b0be052_a58f_11ef_b55a_4a5f992a9e55row5_col0\" class=\"data row5 col0\" >Small Startup (up to 40 Employees)</td>\n",
       "                        <td id=\"T_9b0be052_a58f_11ef_b55a_4a5f992a9e55row5_col1\" class=\"data row5 col1\" >10+ Years</td>\n",
       "                        <td id=\"T_9b0be052_a58f_11ef_b55a_4a5f992a9e55row5_col2\" class=\"data row5 col2\" >23,500 - 23,500</td>\n",
       "                        <td id=\"T_9b0be052_a58f_11ef_b55a_4a5f992a9e55row5_col3\" class=\"data row5 col3\" >23,500</td>\n",
       "                        <td id=\"T_9b0be052_a58f_11ef_b55a_4a5f992a9e55row5_col4\" class=\"data row5 col4\" >Less than 3 people in this group</td>\n",
       "            </tr>\n",
       "            <tr>\n",
       "                                <td id=\"T_9b0be052_a58f_11ef_b55a_4a5f992a9e55row6_col0\" class=\"data row6 col0\" >Small Startup (up to 40 Employees)</td>\n",
       "                        <td id=\"T_9b0be052_a58f_11ef_b55a_4a5f992a9e55row6_col1\" class=\"data row6 col1\" >3-5 Years</td>\n",
       "                        <td id=\"T_9b0be052_a58f_11ef_b55a_4a5f992a9e55row6_col2\" class=\"data row6 col2\" >20,000 - 23,000</td>\n",
       "                        <td id=\"T_9b0be052_a58f_11ef_b55a_4a5f992a9e55row6_col3\" class=\"data row6 col3\" >21,500</td>\n",
       "                        <td id=\"T_9b0be052_a58f_11ef_b55a_4a5f992a9e55row6_col4\" class=\"data row6 col4\" >Less than 3 people in this group</td>\n",
       "            </tr>\n",
       "            <tr>\n",
       "                                <td id=\"T_9b0be052_a58f_11ef_b55a_4a5f992a9e55row7_col0\" class=\"data row7 col0\" >Small Startup (up to 40 Employees)</td>\n",
       "                        <td id=\"T_9b0be052_a58f_11ef_b55a_4a5f992a9e55row7_col1\" class=\"data row7 col1\" >6-9 Years</td>\n",
       "                        <td id=\"T_9b0be052_a58f_11ef_b55a_4a5f992a9e55row7_col2\" class=\"data row7 col2\" >29,000 - 29,000</td>\n",
       "                        <td id=\"T_9b0be052_a58f_11ef_b55a_4a5f992a9e55row7_col3\" class=\"data row7 col3\" >29,000</td>\n",
       "                        <td id=\"T_9b0be052_a58f_11ef_b55a_4a5f992a9e55row7_col4\" class=\"data row7 col4\" >Less than 3 people in this group</td>\n",
       "            </tr>\n",
       "    </tbody></table>"
      ],
      "text/plain": [
       "<pandas.io.formats.style.Styler at 0x1c2f2648308>"
      ]
     },
     "execution_count": 16,
     "metadata": {},
     "output_type": "execute_result"
    }
   ],
   "source": [
    "group_and_summarize(special_knowledge,['Type of Workplace','Experience'],'Total Salary' )"
   ]
  },
  {
   "cell_type": "code",
   "execution_count": 17,
   "metadata": {},
   "outputs": [
    {
     "data": {
      "text/plain": [
       "array([0.])"
      ]
     },
     "execution_count": 17,
     "metadata": {},
     "output_type": "execute_result"
    }
   ],
   "source": [
    "special_knowledge['Hourly Salary Rate'].unique()"
   ]
  },
  {
   "cell_type": "code",
   "execution_count": 18,
   "metadata": {},
   "outputs": [],
   "source": [
    "#special_knowledge[special_knowledge['People Management']=='No']"
   ]
  },
  {
   "cell_type": "code",
   "execution_count": null,
   "metadata": {},
   "outputs": [],
   "source": []
  },
  {
   "cell_type": "code",
   "execution_count": 19,
   "metadata": {},
   "outputs": [],
   "source": [
    "hourly_salary = regular_knowledge[regular_knowledge['Hourly Salary Rate']>0].copy()"
   ]
  },
  {
   "cell_type": "code",
   "execution_count": 20,
   "metadata": {},
   "outputs": [],
   "source": [
    "#hourly_salary"
   ]
  },
  {
   "cell_type": "code",
   "execution_count": 21,
   "metadata": {},
   "outputs": [
    {
     "data": {
      "text/html": [
       "<style  type=\"text/css\" >\n",
       "</style><table id=\"T_9b1cd40a_a58f_11ef_aabc_4a5f992a9e55\" ><thead>    <tr>        <th class=\"col_heading level0 col0\" >Type of Workplace</th>        <th class=\"col_heading level0 col1\" >Experience</th>        <th class=\"col_heading level0 col2\" >Range</th>        <th class=\"col_heading level0 col3\" >Median</th>        <th class=\"col_heading level0 col4\" >Comment</th>    </tr></thead><tbody>\n",
       "                <tr>\n",
       "                                <td id=\"T_9b1cd40a_a58f_11ef_aabc_4a5f992a9e55row0_col0\" class=\"data row0 col0\" >Big Startup (More than 200 Employees)</td>\n",
       "                        <td id=\"T_9b1cd40a_a58f_11ef_aabc_4a5f992a9e55row0_col1\" class=\"data row0 col1\" >0-2 Years</td>\n",
       "                        <td id=\"T_9b1cd40a_a58f_11ef_aabc_4a5f992a9e55row0_col2\" class=\"data row0 col2\" >50 - 50</td>\n",
       "                        <td id=\"T_9b1cd40a_a58f_11ef_aabc_4a5f992a9e55row0_col3\" class=\"data row0 col3\" >50</td>\n",
       "                        <td id=\"T_9b1cd40a_a58f_11ef_aabc_4a5f992a9e55row0_col4\" class=\"data row0 col4\" >Less than 3 people in this group</td>\n",
       "            </tr>\n",
       "            <tr>\n",
       "                                <td id=\"T_9b1cd40a_a58f_11ef_aabc_4a5f992a9e55row1_col0\" class=\"data row1 col0\" >Big Startup (More than 200 Employees)</td>\n",
       "                        <td id=\"T_9b1cd40a_a58f_11ef_aabc_4a5f992a9e55row1_col1\" class=\"data row1 col1\" >3-5 Years</td>\n",
       "                        <td id=\"T_9b1cd40a_a58f_11ef_aabc_4a5f992a9e55row1_col2\" class=\"data row1 col2\" >56 - 56</td>\n",
       "                        <td id=\"T_9b1cd40a_a58f_11ef_aabc_4a5f992a9e55row1_col3\" class=\"data row1 col3\" >56</td>\n",
       "                        <td id=\"T_9b1cd40a_a58f_11ef_aabc_4a5f992a9e55row1_col4\" class=\"data row1 col4\" >Less than 3 people in this group</td>\n",
       "            </tr>\n",
       "            <tr>\n",
       "                                <td id=\"T_9b1cd40a_a58f_11ef_aabc_4a5f992a9e55row2_col0\" class=\"data row2 col0\" >Medium Startup (41-200 Employees)</td>\n",
       "                        <td id=\"T_9b1cd40a_a58f_11ef_aabc_4a5f992a9e55row2_col1\" class=\"data row2 col1\" >0-2 Years</td>\n",
       "                        <td id=\"T_9b1cd40a_a58f_11ef_aabc_4a5f992a9e55row2_col2\" class=\"data row2 col2\" >50 - 50</td>\n",
       "                        <td id=\"T_9b1cd40a_a58f_11ef_aabc_4a5f992a9e55row2_col3\" class=\"data row2 col3\" >50</td>\n",
       "                        <td id=\"T_9b1cd40a_a58f_11ef_aabc_4a5f992a9e55row2_col4\" class=\"data row2 col4\" >Less than 3 people in this group</td>\n",
       "            </tr>\n",
       "    </tbody></table>"
      ],
      "text/plain": [
       "<pandas.io.formats.style.Styler at 0x1c2f263dc08>"
      ]
     },
     "execution_count": 21,
     "metadata": {},
     "output_type": "execute_result"
    }
   ],
   "source": [
    "group_and_summarize(hourly_salary,['Type of Workplace','Experience'],'Total Salary' )"
   ]
  },
  {
   "cell_type": "code",
   "execution_count": 22,
   "metadata": {},
   "outputs": [],
   "source": [
    "global_salary = regular_knowledge[regular_knowledge['Hourly Salary Rate']==0].copy()"
   ]
  },
  {
   "cell_type": "code",
   "execution_count": 23,
   "metadata": {},
   "outputs": [],
   "source": [
    "\n",
    "no_management = global_salary[global_salary['People Management']=='No'].copy()"
   ]
  },
  {
   "cell_type": "code",
   "execution_count": 24,
   "metadata": {},
   "outputs": [],
   "source": [
    "#no_management.info()"
   ]
  },
  {
   "cell_type": "code",
   "execution_count": 25,
   "metadata": {},
   "outputs": [
    {
     "data": {
      "text/html": [
       "<style  type=\"text/css\" >\n",
       "</style><table id=\"T_9b2c87ba_a58f_11ef_a9d3_4a5f992a9e55\" ><thead>    <tr>        <th class=\"col_heading level0 col0\" >Experience</th>        <th class=\"col_heading level0 col1\" >Technical Skills</th>        <th class=\"col_heading level0 col2\" >Range</th>        <th class=\"col_heading level0 col3\" >Median</th>        <th class=\"col_heading level0 col4\" >Comment</th>    </tr></thead><tbody>\n",
       "                <tr>\n",
       "                                <td id=\"T_9b2c87ba_a58f_11ef_a9d3_4a5f992a9e55row0_col0\" class=\"data row0 col0\" >0-2 Years</td>\n",
       "                        <td id=\"T_9b2c87ba_a58f_11ef_a9d3_4a5f992a9e55row0_col1\" class=\"data row0 col1\" >Moderately Technical</td>\n",
       "                        <td id=\"T_9b2c87ba_a58f_11ef_a9d3_4a5f992a9e55row0_col2\" class=\"data row0 col2\" >7,500 - 19,000</td>\n",
       "                        <td id=\"T_9b2c87ba_a58f_11ef_a9d3_4a5f992a9e55row0_col3\" class=\"data row0 col3\" >13,250</td>\n",
       "                        <td id=\"T_9b2c87ba_a58f_11ef_a9d3_4a5f992a9e55row0_col4\" class=\"data row0 col4\" >Less than 3 people in this group</td>\n",
       "            </tr>\n",
       "            <tr>\n",
       "                                <td id=\"T_9b2c87ba_a58f_11ef_a9d3_4a5f992a9e55row1_col0\" class=\"data row1 col0\" >0-2 Years</td>\n",
       "                        <td id=\"T_9b2c87ba_a58f_11ef_a9d3_4a5f992a9e55row1_col1\" class=\"data row1 col1\" >Non-Technical</td>\n",
       "                        <td id=\"T_9b2c87ba_a58f_11ef_a9d3_4a5f992a9e55row1_col2\" class=\"data row1 col2\" >10,000 - 10,000</td>\n",
       "                        <td id=\"T_9b2c87ba_a58f_11ef_a9d3_4a5f992a9e55row1_col3\" class=\"data row1 col3\" >10,000</td>\n",
       "                        <td id=\"T_9b2c87ba_a58f_11ef_a9d3_4a5f992a9e55row1_col4\" class=\"data row1 col4\" >Less than 3 people in this group</td>\n",
       "            </tr>\n",
       "            <tr>\n",
       "                                <td id=\"T_9b2c87ba_a58f_11ef_a9d3_4a5f992a9e55row2_col0\" class=\"data row2 col0\" >0-2 Years</td>\n",
       "                        <td id=\"T_9b2c87ba_a58f_11ef_a9d3_4a5f992a9e55row2_col1\" class=\"data row2 col1\" >Somewhat Technical</td>\n",
       "                        <td id=\"T_9b2c87ba_a58f_11ef_a9d3_4a5f992a9e55row2_col2\" class=\"data row2 col2\" >12,000 - 16,500</td>\n",
       "                        <td id=\"T_9b2c87ba_a58f_11ef_a9d3_4a5f992a9e55row2_col3\" class=\"data row2 col3\" >14,618</td>\n",
       "                        <td id=\"T_9b2c87ba_a58f_11ef_a9d3_4a5f992a9e55row2_col4\" class=\"data row2 col4\" ></td>\n",
       "            </tr>\n",
       "            <tr>\n",
       "                                <td id=\"T_9b2c87ba_a58f_11ef_a9d3_4a5f992a9e55row3_col0\" class=\"data row3 col0\" >10+ Years</td>\n",
       "                        <td id=\"T_9b2c87ba_a58f_11ef_a9d3_4a5f992a9e55row3_col1\" class=\"data row3 col1\" >Somewhat Technical</td>\n",
       "                        <td id=\"T_9b2c87ba_a58f_11ef_a9d3_4a5f992a9e55row3_col2\" class=\"data row3 col2\" >14,000 - 20,000</td>\n",
       "                        <td id=\"T_9b2c87ba_a58f_11ef_a9d3_4a5f992a9e55row3_col3\" class=\"data row3 col3\" >18,900</td>\n",
       "                        <td id=\"T_9b2c87ba_a58f_11ef_a9d3_4a5f992a9e55row3_col4\" class=\"data row3 col4\" ></td>\n",
       "            </tr>\n",
       "            <tr>\n",
       "                                <td id=\"T_9b2c87ba_a58f_11ef_a9d3_4a5f992a9e55row4_col0\" class=\"data row4 col0\" >3-5 Years</td>\n",
       "                        <td id=\"T_9b2c87ba_a58f_11ef_a9d3_4a5f992a9e55row4_col1\" class=\"data row4 col1\" >Moderately Technical</td>\n",
       "                        <td id=\"T_9b2c87ba_a58f_11ef_a9d3_4a5f992a9e55row4_col2\" class=\"data row4 col2\" >20,000 - 25,500</td>\n",
       "                        <td id=\"T_9b2c87ba_a58f_11ef_a9d3_4a5f992a9e55row4_col3\" class=\"data row4 col3\" >22,500</td>\n",
       "                        <td id=\"T_9b2c87ba_a58f_11ef_a9d3_4a5f992a9e55row4_col4\" class=\"data row4 col4\" ></td>\n",
       "            </tr>\n",
       "            <tr>\n",
       "                                <td id=\"T_9b2c87ba_a58f_11ef_a9d3_4a5f992a9e55row5_col0\" class=\"data row5 col0\" >3-5 Years</td>\n",
       "                        <td id=\"T_9b2c87ba_a58f_11ef_a9d3_4a5f992a9e55row5_col1\" class=\"data row5 col1\" >Somewhat Technical</td>\n",
       "                        <td id=\"T_9b2c87ba_a58f_11ef_a9d3_4a5f992a9e55row5_col2\" class=\"data row5 col2\" >15,000 - 20,000</td>\n",
       "                        <td id=\"T_9b2c87ba_a58f_11ef_a9d3_4a5f992a9e55row5_col3\" class=\"data row5 col3\" >17,500</td>\n",
       "                        <td id=\"T_9b2c87ba_a58f_11ef_a9d3_4a5f992a9e55row5_col4\" class=\"data row5 col4\" >Less than 3 people in this group</td>\n",
       "            </tr>\n",
       "            <tr>\n",
       "                                <td id=\"T_9b2c87ba_a58f_11ef_a9d3_4a5f992a9e55row6_col0\" class=\"data row6 col0\" >3-5 Years</td>\n",
       "                        <td id=\"T_9b2c87ba_a58f_11ef_a9d3_4a5f992a9e55row6_col1\" class=\"data row6 col1\" >Very Technical</td>\n",
       "                        <td id=\"T_9b2c87ba_a58f_11ef_a9d3_4a5f992a9e55row6_col2\" class=\"data row6 col2\" >13,000 - 13,000</td>\n",
       "                        <td id=\"T_9b2c87ba_a58f_11ef_a9d3_4a5f992a9e55row6_col3\" class=\"data row6 col3\" >13,000</td>\n",
       "                        <td id=\"T_9b2c87ba_a58f_11ef_a9d3_4a5f992a9e55row6_col4\" class=\"data row6 col4\" >Less than 3 people in this group</td>\n",
       "            </tr>\n",
       "            <tr>\n",
       "                                <td id=\"T_9b2c87ba_a58f_11ef_a9d3_4a5f992a9e55row7_col0\" class=\"data row7 col0\" >6-9 Years</td>\n",
       "                        <td id=\"T_9b2c87ba_a58f_11ef_a9d3_4a5f992a9e55row7_col1\" class=\"data row7 col1\" >Moderately Technical</td>\n",
       "                        <td id=\"T_9b2c87ba_a58f_11ef_a9d3_4a5f992a9e55row7_col2\" class=\"data row7 col2\" >28,000 - 28,000</td>\n",
       "                        <td id=\"T_9b2c87ba_a58f_11ef_a9d3_4a5f992a9e55row7_col3\" class=\"data row7 col3\" >28,000</td>\n",
       "                        <td id=\"T_9b2c87ba_a58f_11ef_a9d3_4a5f992a9e55row7_col4\" class=\"data row7 col4\" >Less than 3 people in this group</td>\n",
       "            </tr>\n",
       "            <tr>\n",
       "                                <td id=\"T_9b2c87ba_a58f_11ef_a9d3_4a5f992a9e55row8_col0\" class=\"data row8 col0\" >6-9 Years</td>\n",
       "                        <td id=\"T_9b2c87ba_a58f_11ef_a9d3_4a5f992a9e55row8_col1\" class=\"data row8 col1\" >Somewhat Technical</td>\n",
       "                        <td id=\"T_9b2c87ba_a58f_11ef_a9d3_4a5f992a9e55row8_col2\" class=\"data row8 col2\" >25,000 - 25,000</td>\n",
       "                        <td id=\"T_9b2c87ba_a58f_11ef_a9d3_4a5f992a9e55row8_col3\" class=\"data row8 col3\" >25,000</td>\n",
       "                        <td id=\"T_9b2c87ba_a58f_11ef_a9d3_4a5f992a9e55row8_col4\" class=\"data row8 col4\" >Less than 3 people in this group</td>\n",
       "            </tr>\n",
       "            <tr>\n",
       "                                <td id=\"T_9b2c87ba_a58f_11ef_a9d3_4a5f992a9e55row9_col0\" class=\"data row9 col0\" >6-9 Years</td>\n",
       "                        <td id=\"T_9b2c87ba_a58f_11ef_a9d3_4a5f992a9e55row9_col1\" class=\"data row9 col1\" >Very Technical</td>\n",
       "                        <td id=\"T_9b2c87ba_a58f_11ef_a9d3_4a5f992a9e55row9_col2\" class=\"data row9 col2\" >24,000 - 24,000</td>\n",
       "                        <td id=\"T_9b2c87ba_a58f_11ef_a9d3_4a5f992a9e55row9_col3\" class=\"data row9 col3\" >24,000</td>\n",
       "                        <td id=\"T_9b2c87ba_a58f_11ef_a9d3_4a5f992a9e55row9_col4\" class=\"data row9 col4\" >Less than 3 people in this group</td>\n",
       "            </tr>\n",
       "    </tbody></table>"
      ],
      "text/plain": [
       "<pandas.io.formats.style.Styler at 0x1c2f262c1c8>"
      ]
     },
     "execution_count": 25,
     "metadata": {},
     "output_type": "execute_result"
    }
   ],
   "source": [
    "group_and_summarize(no_management,['Experience','Technical Skills'],'Total Salary' )"
   ]
  },
  {
   "cell_type": "code",
   "execution_count": 26,
   "metadata": {},
   "outputs": [
    {
     "data": {
      "text/html": [
       "<style  type=\"text/css\" >\n",
       "</style><table id=\"T_9b36521e_a58f_11ef_a204_4a5f992a9e55\" ><thead>    <tr>        <th class=\"col_heading level0 col0\" >Experience</th>        <th class=\"col_heading level0 col1\" >Hands-on</th>        <th class=\"col_heading level0 col2\" >Range</th>        <th class=\"col_heading level0 col3\" >Median</th>        <th class=\"col_heading level0 col4\" >Comment</th>    </tr></thead><tbody>\n",
       "                <tr>\n",
       "                                <td id=\"T_9b36521e_a58f_11ef_a204_4a5f992a9e55row0_col0\" class=\"data row0 col0\" >0-2 Years</td>\n",
       "                        <td id=\"T_9b36521e_a58f_11ef_a204_4a5f992a9e55row0_col1\" class=\"data row0 col1\" >Most/all of my work is hands on</td>\n",
       "                        <td id=\"T_9b36521e_a58f_11ef_a204_4a5f992a9e55row0_col2\" class=\"data row0 col2\" >7,500 - 12,000</td>\n",
       "                        <td id=\"T_9b36521e_a58f_11ef_a204_4a5f992a9e55row0_col3\" class=\"data row0 col3\" >9,750</td>\n",
       "                        <td id=\"T_9b36521e_a58f_11ef_a204_4a5f992a9e55row0_col4\" class=\"data row0 col4\" >Less than 3 people in this group</td>\n",
       "            </tr>\n",
       "            <tr>\n",
       "                                <td id=\"T_9b36521e_a58f_11ef_a204_4a5f992a9e55row1_col0\" class=\"data row1 col0\" >0-2 Years</td>\n",
       "                        <td id=\"T_9b36521e_a58f_11ef_a204_4a5f992a9e55row1_col1\" class=\"data row1 col1\" >~50% of my work is hands on</td>\n",
       "                        <td id=\"T_9b36521e_a58f_11ef_a204_4a5f992a9e55row1_col2\" class=\"data row1 col2\" >10,000 - 19,000</td>\n",
       "                        <td id=\"T_9b36521e_a58f_11ef_a204_4a5f992a9e55row1_col3\" class=\"data row1 col3\" >16,000</td>\n",
       "                        <td id=\"T_9b36521e_a58f_11ef_a204_4a5f992a9e55row1_col4\" class=\"data row1 col4\" ></td>\n",
       "            </tr>\n",
       "            <tr>\n",
       "                                <td id=\"T_9b36521e_a58f_11ef_a204_4a5f992a9e55row2_col0\" class=\"data row2 col0\" >10+ Years</td>\n",
       "                        <td id=\"T_9b36521e_a58f_11ef_a204_4a5f992a9e55row2_col1\" class=\"data row2 col1\" >Most/all of my work is hands on</td>\n",
       "                        <td id=\"T_9b36521e_a58f_11ef_a204_4a5f992a9e55row2_col2\" class=\"data row2 col2\" >14,000 - 20,000</td>\n",
       "                        <td id=\"T_9b36521e_a58f_11ef_a204_4a5f992a9e55row2_col3\" class=\"data row2 col3\" >17,000</td>\n",
       "                        <td id=\"T_9b36521e_a58f_11ef_a204_4a5f992a9e55row2_col4\" class=\"data row2 col4\" >Less than 3 people in this group</td>\n",
       "            </tr>\n",
       "            <tr>\n",
       "                                <td id=\"T_9b36521e_a58f_11ef_a204_4a5f992a9e55row3_col0\" class=\"data row3 col0\" >10+ Years</td>\n",
       "                        <td id=\"T_9b36521e_a58f_11ef_a204_4a5f992a9e55row3_col1\" class=\"data row3 col1\" >~50% of my work is hands on</td>\n",
       "                        <td id=\"T_9b36521e_a58f_11ef_a204_4a5f992a9e55row3_col2\" class=\"data row3 col2\" >18,900 - 18,900</td>\n",
       "                        <td id=\"T_9b36521e_a58f_11ef_a204_4a5f992a9e55row3_col3\" class=\"data row3 col3\" >18,900</td>\n",
       "                        <td id=\"T_9b36521e_a58f_11ef_a204_4a5f992a9e55row3_col4\" class=\"data row3 col4\" >Less than 3 people in this group</td>\n",
       "            </tr>\n",
       "            <tr>\n",
       "                                <td id=\"T_9b36521e_a58f_11ef_a204_4a5f992a9e55row4_col0\" class=\"data row4 col0\" >3-5 Years</td>\n",
       "                        <td id=\"T_9b36521e_a58f_11ef_a204_4a5f992a9e55row4_col1\" class=\"data row4 col1\" >Less than 20% of my work is hands on</td>\n",
       "                        <td id=\"T_9b36521e_a58f_11ef_a204_4a5f992a9e55row4_col2\" class=\"data row4 col2\" >25,000 - 25,000</td>\n",
       "                        <td id=\"T_9b36521e_a58f_11ef_a204_4a5f992a9e55row4_col3\" class=\"data row4 col3\" >25,000</td>\n",
       "                        <td id=\"T_9b36521e_a58f_11ef_a204_4a5f992a9e55row4_col4\" class=\"data row4 col4\" >Less than 3 people in this group</td>\n",
       "            </tr>\n",
       "            <tr>\n",
       "                                <td id=\"T_9b36521e_a58f_11ef_a204_4a5f992a9e55row5_col0\" class=\"data row5 col0\" >3-5 Years</td>\n",
       "                        <td id=\"T_9b36521e_a58f_11ef_a204_4a5f992a9e55row5_col1\" class=\"data row5 col1\" >Most/all of my work is hands on</td>\n",
       "                        <td id=\"T_9b36521e_a58f_11ef_a204_4a5f992a9e55row5_col2\" class=\"data row5 col2\" >13,000 - 15,000</td>\n",
       "                        <td id=\"T_9b36521e_a58f_11ef_a204_4a5f992a9e55row5_col3\" class=\"data row5 col3\" >14,000</td>\n",
       "                        <td id=\"T_9b36521e_a58f_11ef_a204_4a5f992a9e55row5_col4\" class=\"data row5 col4\" >Less than 3 people in this group</td>\n",
       "            </tr>\n",
       "            <tr>\n",
       "                                <td id=\"T_9b36521e_a58f_11ef_a204_4a5f992a9e55row6_col0\" class=\"data row6 col0\" >3-5 Years</td>\n",
       "                        <td id=\"T_9b36521e_a58f_11ef_a204_4a5f992a9e55row6_col1\" class=\"data row6 col1\" >~50% of my work is hands on</td>\n",
       "                        <td id=\"T_9b36521e_a58f_11ef_a204_4a5f992a9e55row6_col2\" class=\"data row6 col2\" >20,000 - 25,500</td>\n",
       "                        <td id=\"T_9b36521e_a58f_11ef_a204_4a5f992a9e55row6_col3\" class=\"data row6 col3\" >20,000</td>\n",
       "                        <td id=\"T_9b36521e_a58f_11ef_a204_4a5f992a9e55row6_col4\" class=\"data row6 col4\" ></td>\n",
       "            </tr>\n",
       "            <tr>\n",
       "                                <td id=\"T_9b36521e_a58f_11ef_a204_4a5f992a9e55row7_col0\" class=\"data row7 col0\" >6-9 Years</td>\n",
       "                        <td id=\"T_9b36521e_a58f_11ef_a204_4a5f992a9e55row7_col1\" class=\"data row7 col1\" >Most/all of my work is hands on</td>\n",
       "                        <td id=\"T_9b36521e_a58f_11ef_a204_4a5f992a9e55row7_col2\" class=\"data row7 col2\" >24,000 - 28,000</td>\n",
       "                        <td id=\"T_9b36521e_a58f_11ef_a204_4a5f992a9e55row7_col3\" class=\"data row7 col3\" >25,000</td>\n",
       "                        <td id=\"T_9b36521e_a58f_11ef_a204_4a5f992a9e55row7_col4\" class=\"data row7 col4\" ></td>\n",
       "            </tr>\n",
       "    </tbody></table>"
      ],
      "text/plain": [
       "<pandas.io.formats.style.Styler at 0x1c2f2620d08>"
      ]
     },
     "execution_count": 26,
     "metadata": {},
     "output_type": "execute_result"
    }
   ],
   "source": [
    "group_and_summarize(no_management,['Experience','Hands-on'],'Total Salary' )"
   ]
  },
  {
   "cell_type": "code",
   "execution_count": 27,
   "metadata": {},
   "outputs": [
    {
     "data": {
      "text/html": [
       "<style  type=\"text/css\" >\n",
       "</style><table id=\"T_9b3d51d2_a58f_11ef_b69a_4a5f992a9e55\" ><thead>    <tr>        <th class=\"col_heading level0 col0\" >Type of Workplace</th>        <th class=\"col_heading level0 col1\" >Experience</th>        <th class=\"col_heading level0 col2\" >Range</th>        <th class=\"col_heading level0 col3\" >Median</th>        <th class=\"col_heading level0 col4\" >Comment</th>    </tr></thead><tbody>\n",
       "                <tr>\n",
       "                                <td id=\"T_9b3d51d2_a58f_11ef_b69a_4a5f992a9e55row0_col0\" class=\"data row0 col0\" >Big Startup (More than 200 Employees)</td>\n",
       "                        <td id=\"T_9b3d51d2_a58f_11ef_b69a_4a5f992a9e55row0_col1\" class=\"data row0 col1\" >3-5 Years</td>\n",
       "                        <td id=\"T_9b3d51d2_a58f_11ef_b69a_4a5f992a9e55row0_col2\" class=\"data row0 col2\" >20,000 - 20,000</td>\n",
       "                        <td id=\"T_9b3d51d2_a58f_11ef_b69a_4a5f992a9e55row0_col3\" class=\"data row0 col3\" >20,000</td>\n",
       "                        <td id=\"T_9b3d51d2_a58f_11ef_b69a_4a5f992a9e55row0_col4\" class=\"data row0 col4\" >Less than 3 people in this group</td>\n",
       "            </tr>\n",
       "            <tr>\n",
       "                                <td id=\"T_9b3d51d2_a58f_11ef_b69a_4a5f992a9e55row1_col0\" class=\"data row1 col0\" >Enterprise/Corporate</td>\n",
       "                        <td id=\"T_9b3d51d2_a58f_11ef_b69a_4a5f992a9e55row1_col1\" class=\"data row1 col1\" >0-2 Years</td>\n",
       "                        <td id=\"T_9b3d51d2_a58f_11ef_b69a_4a5f992a9e55row1_col2\" class=\"data row1 col2\" >16,000 - 19,000</td>\n",
       "                        <td id=\"T_9b3d51d2_a58f_11ef_b69a_4a5f992a9e55row1_col3\" class=\"data row1 col3\" >17,500</td>\n",
       "                        <td id=\"T_9b3d51d2_a58f_11ef_b69a_4a5f992a9e55row1_col4\" class=\"data row1 col4\" >Less than 3 people in this group</td>\n",
       "            </tr>\n",
       "            <tr>\n",
       "                                <td id=\"T_9b3d51d2_a58f_11ef_b69a_4a5f992a9e55row2_col0\" class=\"data row2 col0\" >Enterprise/Corporate</td>\n",
       "                        <td id=\"T_9b3d51d2_a58f_11ef_b69a_4a5f992a9e55row2_col1\" class=\"data row2 col1\" >10+ Years</td>\n",
       "                        <td id=\"T_9b3d51d2_a58f_11ef_b69a_4a5f992a9e55row2_col2\" class=\"data row2 col2\" >18,900 - 20,000</td>\n",
       "                        <td id=\"T_9b3d51d2_a58f_11ef_b69a_4a5f992a9e55row2_col3\" class=\"data row2 col3\" >19,450</td>\n",
       "                        <td id=\"T_9b3d51d2_a58f_11ef_b69a_4a5f992a9e55row2_col4\" class=\"data row2 col4\" >Less than 3 people in this group</td>\n",
       "            </tr>\n",
       "            <tr>\n",
       "                                <td id=\"T_9b3d51d2_a58f_11ef_b69a_4a5f992a9e55row3_col0\" class=\"data row3 col0\" >Enterprise/Corporate</td>\n",
       "                        <td id=\"T_9b3d51d2_a58f_11ef_b69a_4a5f992a9e55row3_col1\" class=\"data row3 col1\" >3-5 Years</td>\n",
       "                        <td id=\"T_9b3d51d2_a58f_11ef_b69a_4a5f992a9e55row3_col2\" class=\"data row3 col2\" >20,000 - 25,500</td>\n",
       "                        <td id=\"T_9b3d51d2_a58f_11ef_b69a_4a5f992a9e55row3_col3\" class=\"data row3 col3\" >22,750</td>\n",
       "                        <td id=\"T_9b3d51d2_a58f_11ef_b69a_4a5f992a9e55row3_col4\" class=\"data row3 col4\" >Less than 3 people in this group</td>\n",
       "            </tr>\n",
       "            <tr>\n",
       "                                <td id=\"T_9b3d51d2_a58f_11ef_b69a_4a5f992a9e55row4_col0\" class=\"data row4 col0\" >Enterprise/Corporate</td>\n",
       "                        <td id=\"T_9b3d51d2_a58f_11ef_b69a_4a5f992a9e55row4_col1\" class=\"data row4 col1\" >6-9 Years</td>\n",
       "                        <td id=\"T_9b3d51d2_a58f_11ef_b69a_4a5f992a9e55row4_col2\" class=\"data row4 col2\" >24,000 - 28,000</td>\n",
       "                        <td id=\"T_9b3d51d2_a58f_11ef_b69a_4a5f992a9e55row4_col3\" class=\"data row4 col3\" >26,000</td>\n",
       "                        <td id=\"T_9b3d51d2_a58f_11ef_b69a_4a5f992a9e55row4_col4\" class=\"data row4 col4\" >Less than 3 people in this group</td>\n",
       "            </tr>\n",
       "            <tr>\n",
       "                                <td id=\"T_9b3d51d2_a58f_11ef_b69a_4a5f992a9e55row5_col0\" class=\"data row5 col0\" >Medium Startup (41-200 Employees)</td>\n",
       "                        <td id=\"T_9b3d51d2_a58f_11ef_b69a_4a5f992a9e55row5_col1\" class=\"data row5 col1\" >0-2 Years</td>\n",
       "                        <td id=\"T_9b3d51d2_a58f_11ef_b69a_4a5f992a9e55row5_col2\" class=\"data row5 col2\" >12,000 - 12,000</td>\n",
       "                        <td id=\"T_9b3d51d2_a58f_11ef_b69a_4a5f992a9e55row5_col3\" class=\"data row5 col3\" >12,000</td>\n",
       "                        <td id=\"T_9b3d51d2_a58f_11ef_b69a_4a5f992a9e55row5_col4\" class=\"data row5 col4\" >Less than 3 people in this group</td>\n",
       "            </tr>\n",
       "            <tr>\n",
       "                                <td id=\"T_9b3d51d2_a58f_11ef_b69a_4a5f992a9e55row6_col0\" class=\"data row6 col0\" >Medium Startup (41-200 Employees)</td>\n",
       "                        <td id=\"T_9b3d51d2_a58f_11ef_b69a_4a5f992a9e55row6_col1\" class=\"data row6 col1\" >10+ Years</td>\n",
       "                        <td id=\"T_9b3d51d2_a58f_11ef_b69a_4a5f992a9e55row6_col2\" class=\"data row6 col2\" >14,000 - 14,000</td>\n",
       "                        <td id=\"T_9b3d51d2_a58f_11ef_b69a_4a5f992a9e55row6_col3\" class=\"data row6 col3\" >14,000</td>\n",
       "                        <td id=\"T_9b3d51d2_a58f_11ef_b69a_4a5f992a9e55row6_col4\" class=\"data row6 col4\" >Less than 3 people in this group</td>\n",
       "            </tr>\n",
       "            <tr>\n",
       "                                <td id=\"T_9b3d51d2_a58f_11ef_b69a_4a5f992a9e55row7_col0\" class=\"data row7 col0\" >Medium Startup (41-200 Employees)</td>\n",
       "                        <td id=\"T_9b3d51d2_a58f_11ef_b69a_4a5f992a9e55row7_col1\" class=\"data row7 col1\" >3-5 Years</td>\n",
       "                        <td id=\"T_9b3d51d2_a58f_11ef_b69a_4a5f992a9e55row7_col2\" class=\"data row7 col2\" >13,000 - 25,000</td>\n",
       "                        <td id=\"T_9b3d51d2_a58f_11ef_b69a_4a5f992a9e55row7_col3\" class=\"data row7 col3\" >15,000</td>\n",
       "                        <td id=\"T_9b3d51d2_a58f_11ef_b69a_4a5f992a9e55row7_col4\" class=\"data row7 col4\" ></td>\n",
       "            </tr>\n",
       "            <tr>\n",
       "                                <td id=\"T_9b3d51d2_a58f_11ef_b69a_4a5f992a9e55row8_col0\" class=\"data row8 col0\" >Medium Startup (41-200 Employees)</td>\n",
       "                        <td id=\"T_9b3d51d2_a58f_11ef_b69a_4a5f992a9e55row8_col1\" class=\"data row8 col1\" >6-9 Years</td>\n",
       "                        <td id=\"T_9b3d51d2_a58f_11ef_b69a_4a5f992a9e55row8_col2\" class=\"data row8 col2\" >25,000 - 25,000</td>\n",
       "                        <td id=\"T_9b3d51d2_a58f_11ef_b69a_4a5f992a9e55row8_col3\" class=\"data row8 col3\" >25,000</td>\n",
       "                        <td id=\"T_9b3d51d2_a58f_11ef_b69a_4a5f992a9e55row8_col4\" class=\"data row8 col4\" >Less than 3 people in this group</td>\n",
       "            </tr>\n",
       "            <tr>\n",
       "                                <td id=\"T_9b3d51d2_a58f_11ef_b69a_4a5f992a9e55row9_col0\" class=\"data row9 col0\" >Small Startup (up to 40 Employees)</td>\n",
       "                        <td id=\"T_9b3d51d2_a58f_11ef_b69a_4a5f992a9e55row9_col1\" class=\"data row9 col1\" >0-2 Years</td>\n",
       "                        <td id=\"T_9b3d51d2_a58f_11ef_b69a_4a5f992a9e55row9_col2\" class=\"data row9 col2\" >7,500 - 16,500</td>\n",
       "                        <td id=\"T_9b3d51d2_a58f_11ef_b69a_4a5f992a9e55row9_col3\" class=\"data row9 col3\" >11,618</td>\n",
       "                        <td id=\"T_9b3d51d2_a58f_11ef_b69a_4a5f992a9e55row9_col4\" class=\"data row9 col4\" ></td>\n",
       "            </tr>\n",
       "    </tbody></table>"
      ],
      "text/plain": [
       "<pandas.io.formats.style.Styler at 0x1c2f2653508>"
      ]
     },
     "execution_count": 27,
     "metadata": {},
     "output_type": "execute_result"
    }
   ],
   "source": [
    "group_and_summarize(no_management,['Type of Workplace','Experience'],'Total Salary' )"
   ]
  },
  {
   "cell_type": "code",
   "execution_count": null,
   "metadata": {},
   "outputs": [],
   "source": []
  },
  {
   "cell_type": "code",
   "execution_count": 28,
   "metadata": {},
   "outputs": [],
   "source": [
    "people_manager = file[file['People Management']=='Yes'].copy()\n",
    "people_manage_specia_knowledge = people_manager[people_manager['Special Knowledge']=='Yes'].copy()"
   ]
  },
  {
   "cell_type": "code",
   "execution_count": 29,
   "metadata": {},
   "outputs": [
    {
     "data": {
      "text/html": [
       "<style  type=\"text/css\" >\n",
       "</style><table id=\"T_9b48fa3e_a58f_11ef_b87c_4a5f992a9e55\" ><thead>    <tr>        <th class=\"col_heading level0 col0\" >Type of Workplace</th>        <th class=\"col_heading level0 col1\" >Experience</th>        <th class=\"col_heading level0 col2\" >Team Size</th>        <th class=\"col_heading level0 col3\" >Range</th>        <th class=\"col_heading level0 col4\" >Median</th>        <th class=\"col_heading level0 col5\" >Comment</th>    </tr></thead><tbody>\n",
       "                <tr>\n",
       "                                <td id=\"T_9b48fa3e_a58f_11ef_b87c_4a5f992a9e55row0_col0\" class=\"data row0 col0\" >Enterprise/Corporate</td>\n",
       "                        <td id=\"T_9b48fa3e_a58f_11ef_b87c_4a5f992a9e55row0_col1\" class=\"data row0 col1\" >6-9 Years</td>\n",
       "                        <td id=\"T_9b48fa3e_a58f_11ef_b87c_4a5f992a9e55row0_col2\" class=\"data row0 col2\" >Over 12 people</td>\n",
       "                        <td id=\"T_9b48fa3e_a58f_11ef_b87c_4a5f992a9e55row0_col3\" class=\"data row0 col3\" >17,000 - 17,000</td>\n",
       "                        <td id=\"T_9b48fa3e_a58f_11ef_b87c_4a5f992a9e55row0_col4\" class=\"data row0 col4\" >17,000</td>\n",
       "                        <td id=\"T_9b48fa3e_a58f_11ef_b87c_4a5f992a9e55row0_col5\" class=\"data row0 col5\" >Less than 3 people in this group</td>\n",
       "            </tr>\n",
       "            <tr>\n",
       "                                <td id=\"T_9b48fa3e_a58f_11ef_b87c_4a5f992a9e55row1_col0\" class=\"data row1 col0\" >Enterprise/Corporate</td>\n",
       "                        <td id=\"T_9b48fa3e_a58f_11ef_b87c_4a5f992a9e55row1_col1\" class=\"data row1 col1\" >6-9 Years</td>\n",
       "                        <td id=\"T_9b48fa3e_a58f_11ef_b87c_4a5f992a9e55row1_col2\" class=\"data row1 col2\" >Up to 5 people</td>\n",
       "                        <td id=\"T_9b48fa3e_a58f_11ef_b87c_4a5f992a9e55row1_col3\" class=\"data row1 col3\" >30,000 - 30,000</td>\n",
       "                        <td id=\"T_9b48fa3e_a58f_11ef_b87c_4a5f992a9e55row1_col4\" class=\"data row1 col4\" >30,000</td>\n",
       "                        <td id=\"T_9b48fa3e_a58f_11ef_b87c_4a5f992a9e55row1_col5\" class=\"data row1 col5\" >Less than 3 people in this group</td>\n",
       "            </tr>\n",
       "            <tr>\n",
       "                                <td id=\"T_9b48fa3e_a58f_11ef_b87c_4a5f992a9e55row2_col0\" class=\"data row2 col0\" >Medium Startup (41-200 Employees)</td>\n",
       "                        <td id=\"T_9b48fa3e_a58f_11ef_b87c_4a5f992a9e55row2_col1\" class=\"data row2 col1\" >0-2 Years</td>\n",
       "                        <td id=\"T_9b48fa3e_a58f_11ef_b87c_4a5f992a9e55row2_col2\" class=\"data row2 col2\" >Between 6 and 12 people</td>\n",
       "                        <td id=\"T_9b48fa3e_a58f_11ef_b87c_4a5f992a9e55row2_col3\" class=\"data row2 col3\" >28,000 - 28,000</td>\n",
       "                        <td id=\"T_9b48fa3e_a58f_11ef_b87c_4a5f992a9e55row2_col4\" class=\"data row2 col4\" >28,000</td>\n",
       "                        <td id=\"T_9b48fa3e_a58f_11ef_b87c_4a5f992a9e55row2_col5\" class=\"data row2 col5\" >Less than 3 people in this group</td>\n",
       "            </tr>\n",
       "            <tr>\n",
       "                                <td id=\"T_9b48fa3e_a58f_11ef_b87c_4a5f992a9e55row3_col0\" class=\"data row3 col0\" >Medium Startup (41-200 Employees)</td>\n",
       "                        <td id=\"T_9b48fa3e_a58f_11ef_b87c_4a5f992a9e55row3_col1\" class=\"data row3 col1\" >10+ Years</td>\n",
       "                        <td id=\"T_9b48fa3e_a58f_11ef_b87c_4a5f992a9e55row3_col2\" class=\"data row3 col2\" >Up to 5 people</td>\n",
       "                        <td id=\"T_9b48fa3e_a58f_11ef_b87c_4a5f992a9e55row3_col3\" class=\"data row3 col3\" >36,500 - 36,500</td>\n",
       "                        <td id=\"T_9b48fa3e_a58f_11ef_b87c_4a5f992a9e55row3_col4\" class=\"data row3 col4\" >36,500</td>\n",
       "                        <td id=\"T_9b48fa3e_a58f_11ef_b87c_4a5f992a9e55row3_col5\" class=\"data row3 col5\" >Less than 3 people in this group</td>\n",
       "            </tr>\n",
       "            <tr>\n",
       "                                <td id=\"T_9b48fa3e_a58f_11ef_b87c_4a5f992a9e55row4_col0\" class=\"data row4 col0\" >Medium Startup (41-200 Employees)</td>\n",
       "                        <td id=\"T_9b48fa3e_a58f_11ef_b87c_4a5f992a9e55row4_col1\" class=\"data row4 col1\" >3-5 Years</td>\n",
       "                        <td id=\"T_9b48fa3e_a58f_11ef_b87c_4a5f992a9e55row4_col2\" class=\"data row4 col2\" >Between 6 and 12 people</td>\n",
       "                        <td id=\"T_9b48fa3e_a58f_11ef_b87c_4a5f992a9e55row4_col3\" class=\"data row4 col3\" >21,000 - 21,000</td>\n",
       "                        <td id=\"T_9b48fa3e_a58f_11ef_b87c_4a5f992a9e55row4_col4\" class=\"data row4 col4\" >21,000</td>\n",
       "                        <td id=\"T_9b48fa3e_a58f_11ef_b87c_4a5f992a9e55row4_col5\" class=\"data row4 col5\" >Less than 3 people in this group</td>\n",
       "            </tr>\n",
       "            <tr>\n",
       "                                <td id=\"T_9b48fa3e_a58f_11ef_b87c_4a5f992a9e55row5_col0\" class=\"data row5 col0\" >Medium Startup (41-200 Employees)</td>\n",
       "                        <td id=\"T_9b48fa3e_a58f_11ef_b87c_4a5f992a9e55row5_col1\" class=\"data row5 col1\" >3-5 Years</td>\n",
       "                        <td id=\"T_9b48fa3e_a58f_11ef_b87c_4a5f992a9e55row5_col2\" class=\"data row5 col2\" >Up to 5 people</td>\n",
       "                        <td id=\"T_9b48fa3e_a58f_11ef_b87c_4a5f992a9e55row5_col3\" class=\"data row5 col3\" >18,500 - 21,000</td>\n",
       "                        <td id=\"T_9b48fa3e_a58f_11ef_b87c_4a5f992a9e55row5_col4\" class=\"data row5 col4\" >19,750</td>\n",
       "                        <td id=\"T_9b48fa3e_a58f_11ef_b87c_4a5f992a9e55row5_col5\" class=\"data row5 col5\" >Less than 3 people in this group</td>\n",
       "            </tr>\n",
       "            <tr>\n",
       "                                <td id=\"T_9b48fa3e_a58f_11ef_b87c_4a5f992a9e55row6_col0\" class=\"data row6 col0\" >Small Startup (up to 40 Employees)</td>\n",
       "                        <td id=\"T_9b48fa3e_a58f_11ef_b87c_4a5f992a9e55row6_col1\" class=\"data row6 col1\" >10+ Years</td>\n",
       "                        <td id=\"T_9b48fa3e_a58f_11ef_b87c_4a5f992a9e55row6_col2\" class=\"data row6 col2\" >Up to 5 people</td>\n",
       "                        <td id=\"T_9b48fa3e_a58f_11ef_b87c_4a5f992a9e55row6_col3\" class=\"data row6 col3\" >23,500 - 23,500</td>\n",
       "                        <td id=\"T_9b48fa3e_a58f_11ef_b87c_4a5f992a9e55row6_col4\" class=\"data row6 col4\" >23,500</td>\n",
       "                        <td id=\"T_9b48fa3e_a58f_11ef_b87c_4a5f992a9e55row6_col5\" class=\"data row6 col5\" >Less than 3 people in this group</td>\n",
       "            </tr>\n",
       "            <tr>\n",
       "                                <td id=\"T_9b48fa3e_a58f_11ef_b87c_4a5f992a9e55row7_col0\" class=\"data row7 col0\" >Small Startup (up to 40 Employees)</td>\n",
       "                        <td id=\"T_9b48fa3e_a58f_11ef_b87c_4a5f992a9e55row7_col1\" class=\"data row7 col1\" >3-5 Years</td>\n",
       "                        <td id=\"T_9b48fa3e_a58f_11ef_b87c_4a5f992a9e55row7_col2\" class=\"data row7 col2\" >Up to 5 people</td>\n",
       "                        <td id=\"T_9b48fa3e_a58f_11ef_b87c_4a5f992a9e55row7_col3\" class=\"data row7 col3\" >23,000 - 23,000</td>\n",
       "                        <td id=\"T_9b48fa3e_a58f_11ef_b87c_4a5f992a9e55row7_col4\" class=\"data row7 col4\" >23,000</td>\n",
       "                        <td id=\"T_9b48fa3e_a58f_11ef_b87c_4a5f992a9e55row7_col5\" class=\"data row7 col5\" >Less than 3 people in this group</td>\n",
       "            </tr>\n",
       "            <tr>\n",
       "                                <td id=\"T_9b48fa3e_a58f_11ef_b87c_4a5f992a9e55row8_col0\" class=\"data row8 col0\" >Small Startup (up to 40 Employees)</td>\n",
       "                        <td id=\"T_9b48fa3e_a58f_11ef_b87c_4a5f992a9e55row8_col1\" class=\"data row8 col1\" >6-9 Years</td>\n",
       "                        <td id=\"T_9b48fa3e_a58f_11ef_b87c_4a5f992a9e55row8_col2\" class=\"data row8 col2\" >Between 6 and 12 people</td>\n",
       "                        <td id=\"T_9b48fa3e_a58f_11ef_b87c_4a5f992a9e55row8_col3\" class=\"data row8 col3\" >29,000 - 29,000</td>\n",
       "                        <td id=\"T_9b48fa3e_a58f_11ef_b87c_4a5f992a9e55row8_col4\" class=\"data row8 col4\" >29,000</td>\n",
       "                        <td id=\"T_9b48fa3e_a58f_11ef_b87c_4a5f992a9e55row8_col5\" class=\"data row8 col5\" >Less than 3 people in this group</td>\n",
       "            </tr>\n",
       "    </tbody></table>"
      ],
      "text/plain": [
       "<pandas.io.formats.style.Styler at 0x1c2f2599a88>"
      ]
     },
     "execution_count": 29,
     "metadata": {},
     "output_type": "execute_result"
    }
   ],
   "source": [
    "group_and_summarize(people_manage_specia_knowledge,['Type of Workplace','Experience', 'Team Size'],'Total Salary' )"
   ]
  },
  {
   "cell_type": "code",
   "execution_count": 30,
   "metadata": {},
   "outputs": [
    {
     "data": {
      "text/html": [
       "<style  type=\"text/css\" >\n",
       "</style><table id=\"T_9b50df6e_a58f_11ef_a95d_4a5f992a9e55\" ><thead>    <tr>        <th class=\"col_heading level0 col0\" >Type of Workplace</th>        <th class=\"col_heading level0 col1\" >Hands-on</th>        <th class=\"col_heading level0 col2\" >Range</th>        <th class=\"col_heading level0 col3\" >Median</th>        <th class=\"col_heading level0 col4\" >Comment</th>    </tr></thead><tbody>\n",
       "                <tr>\n",
       "                                <td id=\"T_9b50df6e_a58f_11ef_a95d_4a5f992a9e55row0_col0\" class=\"data row0 col0\" >Enterprise/Corporate</td>\n",
       "                        <td id=\"T_9b50df6e_a58f_11ef_a95d_4a5f992a9e55row0_col1\" class=\"data row0 col1\" >~50% of my work is hands on</td>\n",
       "                        <td id=\"T_9b50df6e_a58f_11ef_a95d_4a5f992a9e55row0_col2\" class=\"data row0 col2\" >17,000 - 30,000</td>\n",
       "                        <td id=\"T_9b50df6e_a58f_11ef_a95d_4a5f992a9e55row0_col3\" class=\"data row0 col3\" >23,500</td>\n",
       "                        <td id=\"T_9b50df6e_a58f_11ef_a95d_4a5f992a9e55row0_col4\" class=\"data row0 col4\" >Less than 3 people in this group</td>\n",
       "            </tr>\n",
       "            <tr>\n",
       "                                <td id=\"T_9b50df6e_a58f_11ef_a95d_4a5f992a9e55row1_col0\" class=\"data row1 col0\" >Medium Startup (41-200 Employees)</td>\n",
       "                        <td id=\"T_9b50df6e_a58f_11ef_a95d_4a5f992a9e55row1_col1\" class=\"data row1 col1\" >Less than 20% of my work is hands on</td>\n",
       "                        <td id=\"T_9b50df6e_a58f_11ef_a95d_4a5f992a9e55row1_col2\" class=\"data row1 col2\" >21,000 - 28,000</td>\n",
       "                        <td id=\"T_9b50df6e_a58f_11ef_a95d_4a5f992a9e55row1_col3\" class=\"data row1 col3\" >24,500</td>\n",
       "                        <td id=\"T_9b50df6e_a58f_11ef_a95d_4a5f992a9e55row1_col4\" class=\"data row1 col4\" >Less than 3 people in this group</td>\n",
       "            </tr>\n",
       "            <tr>\n",
       "                                <td id=\"T_9b50df6e_a58f_11ef_a95d_4a5f992a9e55row2_col0\" class=\"data row2 col0\" >Medium Startup (41-200 Employees)</td>\n",
       "                        <td id=\"T_9b50df6e_a58f_11ef_a95d_4a5f992a9e55row2_col1\" class=\"data row2 col1\" >Most/all of my work is hands on</td>\n",
       "                        <td id=\"T_9b50df6e_a58f_11ef_a95d_4a5f992a9e55row2_col2\" class=\"data row2 col2\" >21,000 - 21,000</td>\n",
       "                        <td id=\"T_9b50df6e_a58f_11ef_a95d_4a5f992a9e55row2_col3\" class=\"data row2 col3\" >21,000</td>\n",
       "                        <td id=\"T_9b50df6e_a58f_11ef_a95d_4a5f992a9e55row2_col4\" class=\"data row2 col4\" >Less than 3 people in this group</td>\n",
       "            </tr>\n",
       "            <tr>\n",
       "                                <td id=\"T_9b50df6e_a58f_11ef_a95d_4a5f992a9e55row3_col0\" class=\"data row3 col0\" >Medium Startup (41-200 Employees)</td>\n",
       "                        <td id=\"T_9b50df6e_a58f_11ef_a95d_4a5f992a9e55row3_col1\" class=\"data row3 col1\" >~50% of my work is hands on</td>\n",
       "                        <td id=\"T_9b50df6e_a58f_11ef_a95d_4a5f992a9e55row3_col2\" class=\"data row3 col2\" >18,500 - 36,500</td>\n",
       "                        <td id=\"T_9b50df6e_a58f_11ef_a95d_4a5f992a9e55row3_col3\" class=\"data row3 col3\" >27,500</td>\n",
       "                        <td id=\"T_9b50df6e_a58f_11ef_a95d_4a5f992a9e55row3_col4\" class=\"data row3 col4\" >Less than 3 people in this group</td>\n",
       "            </tr>\n",
       "            <tr>\n",
       "                                <td id=\"T_9b50df6e_a58f_11ef_a95d_4a5f992a9e55row4_col0\" class=\"data row4 col0\" >Small Startup (up to 40 Employees)</td>\n",
       "                        <td id=\"T_9b50df6e_a58f_11ef_a95d_4a5f992a9e55row4_col1\" class=\"data row4 col1\" >~50% of my work is hands on</td>\n",
       "                        <td id=\"T_9b50df6e_a58f_11ef_a95d_4a5f992a9e55row4_col2\" class=\"data row4 col2\" >23,000 - 29,000</td>\n",
       "                        <td id=\"T_9b50df6e_a58f_11ef_a95d_4a5f992a9e55row4_col3\" class=\"data row4 col3\" >23,500</td>\n",
       "                        <td id=\"T_9b50df6e_a58f_11ef_a95d_4a5f992a9e55row4_col4\" class=\"data row4 col4\" ></td>\n",
       "            </tr>\n",
       "    </tbody></table>"
      ],
      "text/plain": [
       "<pandas.io.formats.style.Styler at 0x1c2f262c5c8>"
      ]
     },
     "execution_count": 30,
     "metadata": {},
     "output_type": "execute_result"
    }
   ],
   "source": [
    "group_and_summarize(people_manage_specia_knowledge,['Type of Workplace', 'Hands-on'],'Total Salary' )"
   ]
  },
  {
   "cell_type": "code",
   "execution_count": 31,
   "metadata": {},
   "outputs": [],
   "source": [
    "people_manage_regular_knowledge = people_manager[people_manager['Special Knowledge']=='No'].copy()"
   ]
  },
  {
   "cell_type": "code",
   "execution_count": 32,
   "metadata": {},
   "outputs": [
    {
     "data": {
      "text/html": [
       "<style  type=\"text/css\" >\n",
       "</style><table id=\"T_9b5bdf26_a58f_11ef_a3e8_4a5f992a9e55\" ><thead>    <tr>        <th class=\"col_heading level0 col0\" >Type of Workplace</th>        <th class=\"col_heading level0 col1\" >Experience</th>        <th class=\"col_heading level0 col2\" >Team Size</th>        <th class=\"col_heading level0 col3\" >Range</th>        <th class=\"col_heading level0 col4\" >Median</th>        <th class=\"col_heading level0 col5\" >Comment</th>    </tr></thead><tbody>\n",
       "                <tr>\n",
       "                                <td id=\"T_9b5bdf26_a58f_11ef_a3e8_4a5f992a9e55row0_col0\" class=\"data row0 col0\" >Big Startup (More than 200 Employees)</td>\n",
       "                        <td id=\"T_9b5bdf26_a58f_11ef_a3e8_4a5f992a9e55row0_col1\" class=\"data row0 col1\" >3-5 Years</td>\n",
       "                        <td id=\"T_9b5bdf26_a58f_11ef_a3e8_4a5f992a9e55row0_col2\" class=\"data row0 col2\" >Up to 5 people</td>\n",
       "                        <td id=\"T_9b5bdf26_a58f_11ef_a3e8_4a5f992a9e55row0_col3\" class=\"data row0 col3\" >18,000 - 18,000</td>\n",
       "                        <td id=\"T_9b5bdf26_a58f_11ef_a3e8_4a5f992a9e55row0_col4\" class=\"data row0 col4\" >18,000</td>\n",
       "                        <td id=\"T_9b5bdf26_a58f_11ef_a3e8_4a5f992a9e55row0_col5\" class=\"data row0 col5\" >Less than 3 people in this group</td>\n",
       "            </tr>\n",
       "            <tr>\n",
       "                                <td id=\"T_9b5bdf26_a58f_11ef_a3e8_4a5f992a9e55row1_col0\" class=\"data row1 col0\" >Enterprise/Corporate</td>\n",
       "                        <td id=\"T_9b5bdf26_a58f_11ef_a3e8_4a5f992a9e55row1_col1\" class=\"data row1 col1\" >0-2 Years</td>\n",
       "                        <td id=\"T_9b5bdf26_a58f_11ef_a3e8_4a5f992a9e55row1_col2\" class=\"data row1 col2\" >Up to 5 people</td>\n",
       "                        <td id=\"T_9b5bdf26_a58f_11ef_a3e8_4a5f992a9e55row1_col3\" class=\"data row1 col3\" >19,000 - 19,000</td>\n",
       "                        <td id=\"T_9b5bdf26_a58f_11ef_a3e8_4a5f992a9e55row1_col4\" class=\"data row1 col4\" >19,000</td>\n",
       "                        <td id=\"T_9b5bdf26_a58f_11ef_a3e8_4a5f992a9e55row1_col5\" class=\"data row1 col5\" >Less than 3 people in this group</td>\n",
       "            </tr>\n",
       "            <tr>\n",
       "                                <td id=\"T_9b5bdf26_a58f_11ef_a3e8_4a5f992a9e55row2_col0\" class=\"data row2 col0\" >Enterprise/Corporate</td>\n",
       "                        <td id=\"T_9b5bdf26_a58f_11ef_a3e8_4a5f992a9e55row2_col1\" class=\"data row2 col1\" >3-5 Years</td>\n",
       "                        <td id=\"T_9b5bdf26_a58f_11ef_a3e8_4a5f992a9e55row2_col2\" class=\"data row2 col2\" >Between 6 and 12 people</td>\n",
       "                        <td id=\"T_9b5bdf26_a58f_11ef_a3e8_4a5f992a9e55row2_col3\" class=\"data row2 col3\" >25,000 - 25,000</td>\n",
       "                        <td id=\"T_9b5bdf26_a58f_11ef_a3e8_4a5f992a9e55row2_col4\" class=\"data row2 col4\" >25,000</td>\n",
       "                        <td id=\"T_9b5bdf26_a58f_11ef_a3e8_4a5f992a9e55row2_col5\" class=\"data row2 col5\" >Less than 3 people in this group</td>\n",
       "            </tr>\n",
       "            <tr>\n",
       "                                <td id=\"T_9b5bdf26_a58f_11ef_a3e8_4a5f992a9e55row3_col0\" class=\"data row3 col0\" >Enterprise/Corporate</td>\n",
       "                        <td id=\"T_9b5bdf26_a58f_11ef_a3e8_4a5f992a9e55row3_col1\" class=\"data row3 col1\" >3-5 Years</td>\n",
       "                        <td id=\"T_9b5bdf26_a58f_11ef_a3e8_4a5f992a9e55row3_col2\" class=\"data row3 col2\" >Up to 5 people</td>\n",
       "                        <td id=\"T_9b5bdf26_a58f_11ef_a3e8_4a5f992a9e55row3_col3\" class=\"data row3 col3\" >11,000 - 30,000</td>\n",
       "                        <td id=\"T_9b5bdf26_a58f_11ef_a3e8_4a5f992a9e55row3_col4\" class=\"data row3 col4\" >20,500</td>\n",
       "                        <td id=\"T_9b5bdf26_a58f_11ef_a3e8_4a5f992a9e55row3_col5\" class=\"data row3 col5\" >Less than 3 people in this group</td>\n",
       "            </tr>\n",
       "            <tr>\n",
       "                                <td id=\"T_9b5bdf26_a58f_11ef_a3e8_4a5f992a9e55row4_col0\" class=\"data row4 col0\" >Medium Startup (41-200 Employees)</td>\n",
       "                        <td id=\"T_9b5bdf26_a58f_11ef_a3e8_4a5f992a9e55row4_col1\" class=\"data row4 col1\" >0-2 Years</td>\n",
       "                        <td id=\"T_9b5bdf26_a58f_11ef_a3e8_4a5f992a9e55row4_col2\" class=\"data row4 col2\" >Up to 5 people</td>\n",
       "                        <td id=\"T_9b5bdf26_a58f_11ef_a3e8_4a5f992a9e55row4_col3\" class=\"data row4 col3\" >15,000 - 16,000</td>\n",
       "                        <td id=\"T_9b5bdf26_a58f_11ef_a3e8_4a5f992a9e55row4_col4\" class=\"data row4 col4\" >15,500</td>\n",
       "                        <td id=\"T_9b5bdf26_a58f_11ef_a3e8_4a5f992a9e55row4_col5\" class=\"data row4 col5\" >Less than 3 people in this group</td>\n",
       "            </tr>\n",
       "            <tr>\n",
       "                                <td id=\"T_9b5bdf26_a58f_11ef_a3e8_4a5f992a9e55row5_col0\" class=\"data row5 col0\" >Medium Startup (41-200 Employees)</td>\n",
       "                        <td id=\"T_9b5bdf26_a58f_11ef_a3e8_4a5f992a9e55row5_col1\" class=\"data row5 col1\" >10+ Years</td>\n",
       "                        <td id=\"T_9b5bdf26_a58f_11ef_a3e8_4a5f992a9e55row5_col2\" class=\"data row5 col2\" >Over 12 people</td>\n",
       "                        <td id=\"T_9b5bdf26_a58f_11ef_a3e8_4a5f992a9e55row5_col3\" class=\"data row5 col3\" >33,000 - 33,000</td>\n",
       "                        <td id=\"T_9b5bdf26_a58f_11ef_a3e8_4a5f992a9e55row5_col4\" class=\"data row5 col4\" >33,000</td>\n",
       "                        <td id=\"T_9b5bdf26_a58f_11ef_a3e8_4a5f992a9e55row5_col5\" class=\"data row5 col5\" >Less than 3 people in this group</td>\n",
       "            </tr>\n",
       "            <tr>\n",
       "                                <td id=\"T_9b5bdf26_a58f_11ef_a3e8_4a5f992a9e55row6_col0\" class=\"data row6 col0\" >Medium Startup (41-200 Employees)</td>\n",
       "                        <td id=\"T_9b5bdf26_a58f_11ef_a3e8_4a5f992a9e55row6_col1\" class=\"data row6 col1\" >3-5 Years</td>\n",
       "                        <td id=\"T_9b5bdf26_a58f_11ef_a3e8_4a5f992a9e55row6_col2\" class=\"data row6 col2\" >Up to 5 people</td>\n",
       "                        <td id=\"T_9b5bdf26_a58f_11ef_a3e8_4a5f992a9e55row6_col3\" class=\"data row6 col3\" >18,000 - 30,000</td>\n",
       "                        <td id=\"T_9b5bdf26_a58f_11ef_a3e8_4a5f992a9e55row6_col4\" class=\"data row6 col4\" >24,000</td>\n",
       "                        <td id=\"T_9b5bdf26_a58f_11ef_a3e8_4a5f992a9e55row6_col5\" class=\"data row6 col5\" >Less than 3 people in this group</td>\n",
       "            </tr>\n",
       "            <tr>\n",
       "                                <td id=\"T_9b5bdf26_a58f_11ef_a3e8_4a5f992a9e55row7_col0\" class=\"data row7 col0\" >Other</td>\n",
       "                        <td id=\"T_9b5bdf26_a58f_11ef_a3e8_4a5f992a9e55row7_col1\" class=\"data row7 col1\" >6-9 Years</td>\n",
       "                        <td id=\"T_9b5bdf26_a58f_11ef_a3e8_4a5f992a9e55row7_col2\" class=\"data row7 col2\" >Up to 5 people</td>\n",
       "                        <td id=\"T_9b5bdf26_a58f_11ef_a3e8_4a5f992a9e55row7_col3\" class=\"data row7 col3\" >33,500 - 33,500</td>\n",
       "                        <td id=\"T_9b5bdf26_a58f_11ef_a3e8_4a5f992a9e55row7_col4\" class=\"data row7 col4\" >33,500</td>\n",
       "                        <td id=\"T_9b5bdf26_a58f_11ef_a3e8_4a5f992a9e55row7_col5\" class=\"data row7 col5\" >Less than 3 people in this group</td>\n",
       "            </tr>\n",
       "            <tr>\n",
       "                                <td id=\"T_9b5bdf26_a58f_11ef_a3e8_4a5f992a9e55row8_col0\" class=\"data row8 col0\" >Small Startup (up to 40 Employees)</td>\n",
       "                        <td id=\"T_9b5bdf26_a58f_11ef_a3e8_4a5f992a9e55row8_col1\" class=\"data row8 col1\" >0-2 Years</td>\n",
       "                        <td id=\"T_9b5bdf26_a58f_11ef_a3e8_4a5f992a9e55row8_col2\" class=\"data row8 col2\" >Between 6 and 12 people</td>\n",
       "                        <td id=\"T_9b5bdf26_a58f_11ef_a3e8_4a5f992a9e55row8_col3\" class=\"data row8 col3\" >11,000 - 11,000</td>\n",
       "                        <td id=\"T_9b5bdf26_a58f_11ef_a3e8_4a5f992a9e55row8_col4\" class=\"data row8 col4\" >11,000</td>\n",
       "                        <td id=\"T_9b5bdf26_a58f_11ef_a3e8_4a5f992a9e55row8_col5\" class=\"data row8 col5\" >Less than 3 people in this group</td>\n",
       "            </tr>\n",
       "            <tr>\n",
       "                                <td id=\"T_9b5bdf26_a58f_11ef_a3e8_4a5f992a9e55row9_col0\" class=\"data row9 col0\" >Small Startup (up to 40 Employees)</td>\n",
       "                        <td id=\"T_9b5bdf26_a58f_11ef_a3e8_4a5f992a9e55row9_col1\" class=\"data row9 col1\" >10+ Years</td>\n",
       "                        <td id=\"T_9b5bdf26_a58f_11ef_a3e8_4a5f992a9e55row9_col2\" class=\"data row9 col2\" >Up to 5 people</td>\n",
       "                        <td id=\"T_9b5bdf26_a58f_11ef_a3e8_4a5f992a9e55row9_col3\" class=\"data row9 col3\" >30,000 - 30,000</td>\n",
       "                        <td id=\"T_9b5bdf26_a58f_11ef_a3e8_4a5f992a9e55row9_col4\" class=\"data row9 col4\" >30,000</td>\n",
       "                        <td id=\"T_9b5bdf26_a58f_11ef_a3e8_4a5f992a9e55row9_col5\" class=\"data row9 col5\" >Less than 3 people in this group</td>\n",
       "            </tr>\n",
       "            <tr>\n",
       "                                <td id=\"T_9b5bdf26_a58f_11ef_a3e8_4a5f992a9e55row10_col0\" class=\"data row10 col0\" >Small Startup (up to 40 Employees)</td>\n",
       "                        <td id=\"T_9b5bdf26_a58f_11ef_a3e8_4a5f992a9e55row10_col1\" class=\"data row10 col1\" >3-5 Years</td>\n",
       "                        <td id=\"T_9b5bdf26_a58f_11ef_a3e8_4a5f992a9e55row10_col2\" class=\"data row10 col2\" >Up to 5 people</td>\n",
       "                        <td id=\"T_9b5bdf26_a58f_11ef_a3e8_4a5f992a9e55row10_col3\" class=\"data row10 col3\" >20,000 - 35,000</td>\n",
       "                        <td id=\"T_9b5bdf26_a58f_11ef_a3e8_4a5f992a9e55row10_col4\" class=\"data row10 col4\" >26,000</td>\n",
       "                        <td id=\"T_9b5bdf26_a58f_11ef_a3e8_4a5f992a9e55row10_col5\" class=\"data row10 col5\" ></td>\n",
       "            </tr>\n",
       "            <tr>\n",
       "                                <td id=\"T_9b5bdf26_a58f_11ef_a3e8_4a5f992a9e55row11_col0\" class=\"data row11 col0\" >Small Startup (up to 40 Employees)</td>\n",
       "                        <td id=\"T_9b5bdf26_a58f_11ef_a3e8_4a5f992a9e55row11_col1\" class=\"data row11 col1\" >6-9 Years</td>\n",
       "                        <td id=\"T_9b5bdf26_a58f_11ef_a3e8_4a5f992a9e55row11_col2\" class=\"data row11 col2\" >Up to 5 people</td>\n",
       "                        <td id=\"T_9b5bdf26_a58f_11ef_a3e8_4a5f992a9e55row11_col3\" class=\"data row11 col3\" >14,000 - 24,000</td>\n",
       "                        <td id=\"T_9b5bdf26_a58f_11ef_a3e8_4a5f992a9e55row11_col4\" class=\"data row11 col4\" >20,000</td>\n",
       "                        <td id=\"T_9b5bdf26_a58f_11ef_a3e8_4a5f992a9e55row11_col5\" class=\"data row11 col5\" ></td>\n",
       "            </tr>\n",
       "    </tbody></table>"
      ],
      "text/plain": [
       "<pandas.io.formats.style.Styler at 0x1c2f2591e48>"
      ]
     },
     "execution_count": 32,
     "metadata": {},
     "output_type": "execute_result"
    }
   ],
   "source": [
    "group_and_summarize(people_manage_regular_knowledge,['Type of Workplace','Experience', 'Team Size'],'Total Salary' )"
   ]
  },
  {
   "cell_type": "code",
   "execution_count": 33,
   "metadata": {},
   "outputs": [
    {
     "data": {
      "text/html": [
       "<style  type=\"text/css\" >\n",
       "</style><table id=\"T_9b64027a_a58f_11ef_aa69_4a5f992a9e55\" ><thead>    <tr>        <th class=\"col_heading level0 col0\" >Type of Workplace</th>        <th class=\"col_heading level0 col1\" >Hands-on</th>        <th class=\"col_heading level0 col2\" >Range</th>        <th class=\"col_heading level0 col3\" >Median</th>        <th class=\"col_heading level0 col4\" >Comment</th>    </tr></thead><tbody>\n",
       "                <tr>\n",
       "                                <td id=\"T_9b64027a_a58f_11ef_aa69_4a5f992a9e55row0_col0\" class=\"data row0 col0\" >Big Startup (More than 200 Employees)</td>\n",
       "                        <td id=\"T_9b64027a_a58f_11ef_aa69_4a5f992a9e55row0_col1\" class=\"data row0 col1\" >Most/all of my work is hands on</td>\n",
       "                        <td id=\"T_9b64027a_a58f_11ef_aa69_4a5f992a9e55row0_col2\" class=\"data row0 col2\" >18,000 - 18,000</td>\n",
       "                        <td id=\"T_9b64027a_a58f_11ef_aa69_4a5f992a9e55row0_col3\" class=\"data row0 col3\" >18,000</td>\n",
       "                        <td id=\"T_9b64027a_a58f_11ef_aa69_4a5f992a9e55row0_col4\" class=\"data row0 col4\" >Less than 3 people in this group</td>\n",
       "            </tr>\n",
       "            <tr>\n",
       "                                <td id=\"T_9b64027a_a58f_11ef_aa69_4a5f992a9e55row1_col0\" class=\"data row1 col0\" >Big Startup (More than 200 Employees)</td>\n",
       "                        <td id=\"T_9b64027a_a58f_11ef_aa69_4a5f992a9e55row1_col1\" class=\"data row1 col1\" >~50% of my work is hands on</td>\n",
       "                        <td id=\"T_9b64027a_a58f_11ef_aa69_4a5f992a9e55row1_col2\" class=\"data row1 col2\" >18,000 - 18,000</td>\n",
       "                        <td id=\"T_9b64027a_a58f_11ef_aa69_4a5f992a9e55row1_col3\" class=\"data row1 col3\" >18,000</td>\n",
       "                        <td id=\"T_9b64027a_a58f_11ef_aa69_4a5f992a9e55row1_col4\" class=\"data row1 col4\" >Less than 3 people in this group</td>\n",
       "            </tr>\n",
       "            <tr>\n",
       "                                <td id=\"T_9b64027a_a58f_11ef_aa69_4a5f992a9e55row2_col0\" class=\"data row2 col0\" >Enterprise/Corporate</td>\n",
       "                        <td id=\"T_9b64027a_a58f_11ef_aa69_4a5f992a9e55row2_col1\" class=\"data row2 col1\" >Less than 20% of my work is hands on</td>\n",
       "                        <td id=\"T_9b64027a_a58f_11ef_aa69_4a5f992a9e55row2_col2\" class=\"data row2 col2\" >25,000 - 30,000</td>\n",
       "                        <td id=\"T_9b64027a_a58f_11ef_aa69_4a5f992a9e55row2_col3\" class=\"data row2 col3\" >27,500</td>\n",
       "                        <td id=\"T_9b64027a_a58f_11ef_aa69_4a5f992a9e55row2_col4\" class=\"data row2 col4\" >Less than 3 people in this group</td>\n",
       "            </tr>\n",
       "            <tr>\n",
       "                                <td id=\"T_9b64027a_a58f_11ef_aa69_4a5f992a9e55row3_col0\" class=\"data row3 col0\" >Enterprise/Corporate</td>\n",
       "                        <td id=\"T_9b64027a_a58f_11ef_aa69_4a5f992a9e55row3_col1\" class=\"data row3 col1\" >Most/all of my work is hands on</td>\n",
       "                        <td id=\"T_9b64027a_a58f_11ef_aa69_4a5f992a9e55row3_col2\" class=\"data row3 col2\" >19,000 - 19,000</td>\n",
       "                        <td id=\"T_9b64027a_a58f_11ef_aa69_4a5f992a9e55row3_col3\" class=\"data row3 col3\" >19,000</td>\n",
       "                        <td id=\"T_9b64027a_a58f_11ef_aa69_4a5f992a9e55row3_col4\" class=\"data row3 col4\" >Less than 3 people in this group</td>\n",
       "            </tr>\n",
       "            <tr>\n",
       "                                <td id=\"T_9b64027a_a58f_11ef_aa69_4a5f992a9e55row4_col0\" class=\"data row4 col0\" >Enterprise/Corporate</td>\n",
       "                        <td id=\"T_9b64027a_a58f_11ef_aa69_4a5f992a9e55row4_col1\" class=\"data row4 col1\" >~50% of my work is hands on</td>\n",
       "                        <td id=\"T_9b64027a_a58f_11ef_aa69_4a5f992a9e55row4_col2\" class=\"data row4 col2\" >11,000 - 11,000</td>\n",
       "                        <td id=\"T_9b64027a_a58f_11ef_aa69_4a5f992a9e55row4_col3\" class=\"data row4 col3\" >11,000</td>\n",
       "                        <td id=\"T_9b64027a_a58f_11ef_aa69_4a5f992a9e55row4_col4\" class=\"data row4 col4\" >Less than 3 people in this group</td>\n",
       "            </tr>\n",
       "            <tr>\n",
       "                                <td id=\"T_9b64027a_a58f_11ef_aa69_4a5f992a9e55row5_col0\" class=\"data row5 col0\" >Medium Startup (41-200 Employees)</td>\n",
       "                        <td id=\"T_9b64027a_a58f_11ef_aa69_4a5f992a9e55row5_col1\" class=\"data row5 col1\" >Less than 20% of my work is hands on</td>\n",
       "                        <td id=\"T_9b64027a_a58f_11ef_aa69_4a5f992a9e55row5_col2\" class=\"data row5 col2\" >18,000 - 18,000</td>\n",
       "                        <td id=\"T_9b64027a_a58f_11ef_aa69_4a5f992a9e55row5_col3\" class=\"data row5 col3\" >18,000</td>\n",
       "                        <td id=\"T_9b64027a_a58f_11ef_aa69_4a5f992a9e55row5_col4\" class=\"data row5 col4\" >Less than 3 people in this group</td>\n",
       "            </tr>\n",
       "            <tr>\n",
       "                                <td id=\"T_9b64027a_a58f_11ef_aa69_4a5f992a9e55row6_col0\" class=\"data row6 col0\" >Medium Startup (41-200 Employees)</td>\n",
       "                        <td id=\"T_9b64027a_a58f_11ef_aa69_4a5f992a9e55row6_col1\" class=\"data row6 col1\" >Most/all of my work is hands on</td>\n",
       "                        <td id=\"T_9b64027a_a58f_11ef_aa69_4a5f992a9e55row6_col2\" class=\"data row6 col2\" >30,000 - 30,000</td>\n",
       "                        <td id=\"T_9b64027a_a58f_11ef_aa69_4a5f992a9e55row6_col3\" class=\"data row6 col3\" >30,000</td>\n",
       "                        <td id=\"T_9b64027a_a58f_11ef_aa69_4a5f992a9e55row6_col4\" class=\"data row6 col4\" >Less than 3 people in this group</td>\n",
       "            </tr>\n",
       "            <tr>\n",
       "                                <td id=\"T_9b64027a_a58f_11ef_aa69_4a5f992a9e55row7_col0\" class=\"data row7 col0\" >Medium Startup (41-200 Employees)</td>\n",
       "                        <td id=\"T_9b64027a_a58f_11ef_aa69_4a5f992a9e55row7_col1\" class=\"data row7 col1\" >~50% of my work is hands on</td>\n",
       "                        <td id=\"T_9b64027a_a58f_11ef_aa69_4a5f992a9e55row7_col2\" class=\"data row7 col2\" >15,000 - 33,000</td>\n",
       "                        <td id=\"T_9b64027a_a58f_11ef_aa69_4a5f992a9e55row7_col3\" class=\"data row7 col3\" >16,000</td>\n",
       "                        <td id=\"T_9b64027a_a58f_11ef_aa69_4a5f992a9e55row7_col4\" class=\"data row7 col4\" ></td>\n",
       "            </tr>\n",
       "            <tr>\n",
       "                                <td id=\"T_9b64027a_a58f_11ef_aa69_4a5f992a9e55row8_col0\" class=\"data row8 col0\" >Other</td>\n",
       "                        <td id=\"T_9b64027a_a58f_11ef_aa69_4a5f992a9e55row8_col1\" class=\"data row8 col1\" >Less than 20% of my work is hands on</td>\n",
       "                        <td id=\"T_9b64027a_a58f_11ef_aa69_4a5f992a9e55row8_col2\" class=\"data row8 col2\" >33,500 - 33,500</td>\n",
       "                        <td id=\"T_9b64027a_a58f_11ef_aa69_4a5f992a9e55row8_col3\" class=\"data row8 col3\" >33,500</td>\n",
       "                        <td id=\"T_9b64027a_a58f_11ef_aa69_4a5f992a9e55row8_col4\" class=\"data row8 col4\" >Less than 3 people in this group</td>\n",
       "            </tr>\n",
       "            <tr>\n",
       "                                <td id=\"T_9b64027a_a58f_11ef_aa69_4a5f992a9e55row9_col0\" class=\"data row9 col0\" >Small Startup (up to 40 Employees)</td>\n",
       "                        <td id=\"T_9b64027a_a58f_11ef_aa69_4a5f992a9e55row9_col1\" class=\"data row9 col1\" >Less than 20% of my work is hands on</td>\n",
       "                        <td id=\"T_9b64027a_a58f_11ef_aa69_4a5f992a9e55row9_col2\" class=\"data row9 col2\" >20,000 - 30,000</td>\n",
       "                        <td id=\"T_9b64027a_a58f_11ef_aa69_4a5f992a9e55row9_col3\" class=\"data row9 col3\" >26,000</td>\n",
       "                        <td id=\"T_9b64027a_a58f_11ef_aa69_4a5f992a9e55row9_col4\" class=\"data row9 col4\" ></td>\n",
       "            </tr>\n",
       "            <tr>\n",
       "                                <td id=\"T_9b64027a_a58f_11ef_aa69_4a5f992a9e55row10_col0\" class=\"data row10 col0\" >Small Startup (up to 40 Employees)</td>\n",
       "                        <td id=\"T_9b64027a_a58f_11ef_aa69_4a5f992a9e55row10_col1\" class=\"data row10 col1\" >Most/all of my work is hands on</td>\n",
       "                        <td id=\"T_9b64027a_a58f_11ef_aa69_4a5f992a9e55row10_col2\" class=\"data row10 col2\" >14,000 - 35,000</td>\n",
       "                        <td id=\"T_9b64027a_a58f_11ef_aa69_4a5f992a9e55row10_col3\" class=\"data row10 col3\" >20,000</td>\n",
       "                        <td id=\"T_9b64027a_a58f_11ef_aa69_4a5f992a9e55row10_col4\" class=\"data row10 col4\" ></td>\n",
       "            </tr>\n",
       "            <tr>\n",
       "                                <td id=\"T_9b64027a_a58f_11ef_aa69_4a5f992a9e55row11_col0\" class=\"data row11 col0\" >Small Startup (up to 40 Employees)</td>\n",
       "                        <td id=\"T_9b64027a_a58f_11ef_aa69_4a5f992a9e55row11_col1\" class=\"data row11 col1\" >~50% of my work is hands on</td>\n",
       "                        <td id=\"T_9b64027a_a58f_11ef_aa69_4a5f992a9e55row11_col2\" class=\"data row11 col2\" >11,000 - 24,000</td>\n",
       "                        <td id=\"T_9b64027a_a58f_11ef_aa69_4a5f992a9e55row11_col3\" class=\"data row11 col3\" >17,500</td>\n",
       "                        <td id=\"T_9b64027a_a58f_11ef_aa69_4a5f992a9e55row11_col4\" class=\"data row11 col4\" >Less than 3 people in this group</td>\n",
       "            </tr>\n",
       "    </tbody></table>"
      ],
      "text/plain": [
       "<pandas.io.formats.style.Styler at 0x1c2f2653c48>"
      ]
     },
     "execution_count": 33,
     "metadata": {},
     "output_type": "execute_result"
    }
   ],
   "source": [
    "group_and_summarize(people_manage_regular_knowledge,['Type of Workplace', 'Hands-on'],'Total Salary' )"
   ]
  },
  {
   "cell_type": "code",
   "execution_count": null,
   "metadata": {},
   "outputs": [],
   "source": []
  },
  {
   "cell_type": "code",
   "execution_count": 34,
   "metadata": {},
   "outputs": [
    {
     "name": "stdout",
     "output_type": "stream",
     "text": [
      "Average Salary: 20983.70 ILS\n",
      "Median Salary: 20000.00 ILS\n",
      "Minimum Salary: 7500.00 ILS\n",
      "Maximum Salary: 36500.00 ILS\n"
     ]
    },
    {
     "ename": "AttributeError",
     "evalue": "module 'seaborn' has no attribute 'histplot'",
     "output_type": "error",
     "traceback": [
      "\u001b[1;31m---------------------------------------------------------------------------\u001b[0m",
      "\u001b[1;31mAttributeError\u001b[0m                            Traceback (most recent call last)",
      "\u001b[1;32m<ipython-input-34-771cf4053f24>\u001b[0m in \u001b[0;36m<module>\u001b[1;34m\u001b[0m\n\u001b[0;32m     32\u001b[0m \u001b[1;31m# Salary distribution histogram with more x-axis labels\u001b[0m\u001b[1;33m\u001b[0m\u001b[1;33m\u001b[0m\u001b[1;33m\u001b[0m\u001b[0m\n\u001b[0;32m     33\u001b[0m \u001b[0mplt\u001b[0m\u001b[1;33m.\u001b[0m\u001b[0mfigure\u001b[0m\u001b[1;33m(\u001b[0m\u001b[0mfigsize\u001b[0m\u001b[1;33m=\u001b[0m\u001b[1;33m(\u001b[0m\u001b[1;36m12\u001b[0m\u001b[1;33m,\u001b[0m \u001b[1;36m6\u001b[0m\u001b[1;33m)\u001b[0m\u001b[1;33m)\u001b[0m\u001b[1;33m\u001b[0m\u001b[1;33m\u001b[0m\u001b[0m\n\u001b[1;32m---> 34\u001b[1;33m \u001b[0msns\u001b[0m\u001b[1;33m.\u001b[0m\u001b[0mhistplot\u001b[0m\u001b[1;33m(\u001b[0m\u001b[0mdata\u001b[0m \u001b[1;33m=\u001b[0m \u001b[0mdf\u001b[0m\u001b[1;33m[\u001b[0m\u001b[1;34m'Monthly Gross Salary (Bruto)'\u001b[0m\u001b[1;33m]\u001b[0m\u001b[1;33m,\u001b[0m \u001b[0mbins\u001b[0m\u001b[1;33m=\u001b[0m\u001b[1;36m30\u001b[0m\u001b[1;33m)\u001b[0m \u001b[1;31m#, kde=True)\u001b[0m\u001b[1;33m\u001b[0m\u001b[1;33m\u001b[0m\u001b[0m\n\u001b[0m\u001b[0;32m     35\u001b[0m \u001b[0mplt\u001b[0m\u001b[1;33m.\u001b[0m\u001b[0mxlabel\u001b[0m\u001b[1;33m(\u001b[0m\u001b[1;34m'Monthly Gross Salary (ILS)'\u001b[0m\u001b[1;33m)\u001b[0m\u001b[1;33m\u001b[0m\u001b[1;33m\u001b[0m\u001b[0m\n\u001b[0;32m     36\u001b[0m \u001b[0mplt\u001b[0m\u001b[1;33m.\u001b[0m\u001b[0mylabel\u001b[0m\u001b[1;33m(\u001b[0m\u001b[1;34m'Density'\u001b[0m\u001b[1;33m)\u001b[0m\u001b[1;33m\u001b[0m\u001b[1;33m\u001b[0m\u001b[0m\n",
      "\u001b[1;31mAttributeError\u001b[0m: module 'seaborn' has no attribute 'histplot'"
     ]
    },
    {
     "data": {
      "text/plain": [
       "<Figure size 864x432 with 0 Axes>"
      ]
     },
     "metadata": {},
     "output_type": "display_data"
    }
   ],
   "source": [
    "import pandas as pd\n",
    "import matplotlib.pyplot as plt\n",
    "import seaborn as sns\n",
    "import numpy as np\n",
    "\n",
    "# Load the data into a pandas DataFrame\n",
    "df = pd.read_csv(r'C:\\Users\\ydool\\Downloads\\Table 1-Grid view (4).csv')\n",
    "\n",
    "\n",
    "# Clean and prepare the data\n",
    "df = df.dropna(subset=['Monthly Gross Salary (Bruto)'])\n",
    "df['Monthly Gross Salary (Bruto)'] = df['Monthly Gross Salary (Bruto)'].astype(float)\n",
    "\n",
    "# Create ordered categorical type for Technical Skills\n",
    "skill_order = ['Non-Technical', 'Somewhat Technical', 'Moderately Technical', 'Very Technical']\n",
    "df['Technical Skills'] = pd.Categorical(df['Technical Skills'], categories=skill_order, ordered=True)\n",
    "\n",
    "# Salary statistics\n",
    "salary_mean = df['Monthly Gross Salary (Bruto)'].mean()\n",
    "salary_median = df['Monthly Gross Salary (Bruto)'].median()\n",
    "salary_min = df['Monthly Gross Salary (Bruto)'].min()\n",
    "salary_max = df['Monthly Gross Salary (Bruto)'].max()\n",
    "\n",
    "print(f'Average Salary: {salary_mean:.2f} ILS')\n",
    "print(f'Median Salary: {salary_median:.2f} ILS')\n",
    "print(f'Minimum Salary: {salary_min:.2f} ILS')\n",
    "print(f'Maximum Salary: {salary_max:.2f} ILS')\n",
    "\n",
    "# Set style for better visibility\n",
    "plt.style.use('seaborn')\n",
    "\n",
    "# Salary distribution histogram with more x-axis labels\n",
    "plt.figure(figsize=(12, 6))\n",
    "sns.histplot(data = df['Monthly Gross Salary (Bruto)'], bins=30) #, kde=True)\n",
    "plt.xlabel('Monthly Gross Salary (ILS)')\n",
    "plt.ylabel('Density')\n",
    "plt.title('Distribution of Salaries')\n",
    "\n",
    "# Create more x-axis ticks\n",
    "min_salary = df['Monthly Gross Salary (Bruto)'].min()\n",
    "max_salary = df['Monthly Gross Salary (Bruto)'].max()\n",
    "plt.xticks(np.arange(5000, max_salary + 5000, 2500), rotation=45)\n",
    "\n",
    "plt.tight_layout()\n",
    "plt.savefig('salary_histogram.png')\n",
    "\n",
    "# Salary by experience level\n",
    "plt.figure(figsize=(12, 6))\n",
    "ax = sns.barplot(x='Experience', y='Monthly Gross Salary (Bruto)', data=df)\n",
    "plt.xlabel('Years of Experience')\n",
    "plt.ylabel('Average Salary (ILS)')\n",
    "plt.title('Salary by Experience Level')\n",
    "plt.xticks(rotation=45, ha='right')\n",
    "plt.tight_layout()\n",
    "plt.savefig('salary_by_experience.png')\n",
    "\n",
    "# Salary by workplace type\n",
    "plt.figure(figsize=(12, 6))\n",
    "ax = sns.barplot(x='Type of Workplace', y='Monthly Gross Salary (Bruto)', data=df)\n",
    "plt.xlabel('Workplace Type')\n",
    "plt.ylabel('Average Salary (ILS)')\n",
    "plt.title('Salary by Workplace Type')\n",
    "plt.xticks(rotation=45, ha='right')\n",
    "plt.tight_layout()\n",
    "plt.savefig('salary_by_workplace.png')\n",
    "\n",
    "# Salary by technical skills (ordered)\n",
    "plt.figure(figsize=(12, 6))\n",
    "ax = sns.barplot(x='Technical Skills', y='Monthly Gross Salary (Bruto)', data=df, order=skill_order)\n",
    "plt.xlabel('Technical Skill Level')\n",
    "plt.ylabel('Average Salary (ILS)')\n",
    "plt.title('Salary by Technical Skill Level')\n",
    "plt.xticks(rotation=45, ha='right')\n",
    "plt.tight_layout()\n",
    "plt.savefig('salary_by_technical_skills.png')\n",
    "\n",
    "# Salary by experience and workplace type\n",
    "plt.figure(figsize=(12, 6))\n",
    "ax = sns.barplot(x='Type of Workplace', y='Monthly Gross Salary (Bruto)', hue='Experience', data=df)\n",
    "plt.xlabel('Workplace Type')\n",
    "plt.ylabel('Average Salary (ILS)')\n",
    "plt.title('Salary by Workplace Type and Experience Level')\n",
    "plt.xticks(rotation=45, ha='right')\n",
    "plt.legend(bbox_to_anchor=(1.05, 1), loc='upper left')\n",
    "plt.tight_layout()\n",
    "plt.savefig('salary_by_workplace_and_experience.png')\n",
    "\n",
    "# Salary by technical skills and workplace type\n",
    "plt.figure(figsize=(12, 6))\n",
    "ax = sns.barplot(x='Type of Workplace', y='Monthly Gross Salary (Bruto)', hue='Technical Skills', data=df, hue_order=skill_order)\n",
    "plt.xlabel('Workplace Type')\n",
    "plt.ylabel('Average Salary (ILS)')\n",
    "plt.title('Salary by Workplace Type and Technical Skills')\n",
    "plt.xticks(rotation=45, ha='right')\n",
    "plt.legend(bbox_to_anchor=(1.05, 1), loc='upper left')\n",
    "plt.tight_layout()\n",
    "plt.savefig('salary_by_workplace_and_technical_skills.png')"
   ]
  },
  {
   "cell_type": "code",
   "execution_count": 45,
   "metadata": {},
   "outputs": [
    {
     "data": {
      "image/png": "[encoded data removed]",
      "text/plain": [
       "<Figure size 1080x432 with 1 Axes>"
      ]
     },
     "metadata": {},
     "output_type": "display_data"
    }
   ],
   "source": [
    "import pandas as pd\n",
    "import matplotlib.pyplot as plt\n",
    "import seaborn as sns\n",
    "from scipy.stats import gaussian_kde\n",
    "import numpy as np\n",
    "\n",
    "# Extract salaries from the data\n",
    "salaries = df['Monthly Gross Salary (Bruto)'].to_list()\n",
    "\n",
    "# Create the plot with improved styling\n",
    "plt.figure(figsize=(15, 6))\n",
    "\n",
    "# Histogram\n",
    "weights = np.ones_like(salaries) / len(salaries) * 100\n",
    "counts, bins, _ = plt.hist(salaries, bins=20, weights=weights, color='skyblue', edgecolor='black', alpha=0.7)\n",
    "\n",
    "# Kernel Density Estimation for trend line\n",
    "kde = gaussian_kde(salaries)\n",
    "x_range = np.linspace(min(salaries), max(salaries), 200)\n",
    "trend_line = kde(x_range)\n",
    "# Scale trend line to match histogram percentages\n",
    "trend_line = trend_line / trend_line.max() * counts.max()\n",
    "plt.plot(x_range, trend_line, color='blue', linewidth=2)\n",
    "\n",
    "# Set the tick locations at the start of each bin\n",
    "plt.xticks(bins[:-1], ['{:,.0f}'.format(b) for b in bins[:-1]], rotation=45, ha='right')\n",
    "\n",
    "# Customize the plot\n",
    "plt.title('Distribution of Monthly Gross Salaries', fontsize=14, pad=15)\n",
    "plt.xlabel('Monthly Gross Salary', fontsize=12)\n",
    "#plt.ylabel('Percentage of Employees (%)', fontsize=12)\n",
    "\n",
    "# Add grid for better readability\n",
    "plt.grid(True, alpha=0.3)\n",
    "\n",
    "# Format y-axis labels to show integer percentages\n",
    "y_values = plt.gca().get_yticks()\n",
    "plt.gca().set_yticklabels(['{:0.0f}%'.format(y) for y in y_values])\n",
    "\n",
    "# Adjust layout to prevent label cutoff\n",
    "plt.tight_layout()\n",
    "\n",
    "# Show the plot\n",
    "plt.show()"
   ]
  },
  {
   "cell_type": "code",
   "execution_count": null,
   "metadata": {},
   "outputs": [],
   "source": []
  }
 ],
 "metadata": {
  "kernelspec": {
   "display_name": "Python 3",
   "language": "python",
   "name": "python3"
  },
  "language_info": {
   "codemirror_mode": {
    "name": "ipython",
    "version": 3
   },
   "file_extension": ".py",
   "mimetype": "text/x-python",
   "name": "python",
   "nbconvert_exporter": "python",
   "pygments_lexer": "ipython3",
   "version": "3.7.4"
  }
 },
 "nbformat": 4,
 "nbformat_minor": 2
}
